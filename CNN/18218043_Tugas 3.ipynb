{
 "cells": [
  {
   "cell_type": "code",
   "execution_count": 1,
   "metadata": {},
   "outputs": [],
   "source": [
    "import tensorflow as tf\n",
    "from keras.preprocessing.image import ImageDataGenerator\n",
    "from keras.layers import Dense, Dropout, Conv2D, MaxPool2D, Flatten\n",
    "from keras.models import Sequential"
   ]
  },
  {
   "cell_type": "code",
   "execution_count": 2,
   "metadata": {},
   "outputs": [],
   "source": [
    "tf.keras.backend.clear_session()"
   ]
  },
  {
   "cell_type": "code",
   "execution_count": 3,
   "metadata": {},
   "outputs": [
    {
     "name": "stdout",
     "output_type": "stream",
     "text": [
      "Found 50000 images belonging to 10 classes.\n"
     ]
    }
   ],
   "source": [
    "train_datagen = ImageDataGenerator(rescale = 1./255,\n",
    "                                   shear_range = 0.2,\n",
    "                                   zoom_range = 0.2,\n",
    "                                   horizontal_flip = True)\n",
    "training_set = train_datagen.flow_from_directory('D:/ITBTERCINTA/SEMESTER6/SisCer/Tugas/Tugas3/images/train',\n",
    "                                                 target_size = (32, 32),\n",
    "                                                 batch_size = 32,\n",
    "                                                 class_mode = 'categorical')"
   ]
  },
  {
   "cell_type": "code",
   "execution_count": 4,
   "metadata": {},
   "outputs": [
    {
     "name": "stdout",
     "output_type": "stream",
     "text": [
      "Found 10000 images belonging to 10 classes.\n"
     ]
    }
   ],
   "source": [
    "test_datagen = ImageDataGenerator(rescale = 1./255)\n",
    "test_set = test_datagen.flow_from_directory('D:/ITBTERCINTA/SEMESTER6/SisCer/Tugas/Tugas3/images/test',\n",
    "                                            target_size = (32, 32),\n",
    "                                            batch_size = 32,\n",
    "                                            class_mode = 'categorical')"
   ]
  },
  {
   "cell_type": "code",
   "execution_count": 5,
   "metadata": {},
   "outputs": [],
   "source": [
    "cnn = tf.keras.models.Sequential()"
   ]
  },
  {
   "cell_type": "code",
   "execution_count": 6,
   "metadata": {},
   "outputs": [],
   "source": [
    "cnn.add(tf.keras.layers.Conv2D(filters=50, kernel_size=3, activation='relu', input_shape=[32, 32, 3]))"
   ]
  },
  {
   "cell_type": "code",
   "execution_count": 7,
   "metadata": {},
   "outputs": [],
   "source": [
    "cnn.add(tf.keras.layers.Conv2D(filters=75, kernel_size=3, activation='relu'))\n",
    "cnn.add(tf.keras.layers.MaxPool2D(pool_size=2, strides=2))"
   ]
  },
  {
   "cell_type": "code",
   "execution_count": 8,
   "metadata": {},
   "outputs": [],
   "source": [
    "cnn.add(tf.keras.layers.Conv2D(filters=125, kernel_size=3, activation='relu'))\n",
    "cnn.add(tf.keras.layers.MaxPool2D(pool_size=2, strides=2))"
   ]
  },
  {
   "cell_type": "code",
   "execution_count": 9,
   "metadata": {},
   "outputs": [],
   "source": [
    "cnn.add(tf.keras.layers.Flatten())"
   ]
  },
  {
   "cell_type": "code",
   "execution_count": 10,
   "metadata": {},
   "outputs": [],
   "source": [
    "cnn.add(tf.keras.layers.Dense(units=500, activation='relu'))"
   ]
  },
  {
   "cell_type": "code",
   "execution_count": 11,
   "metadata": {},
   "outputs": [],
   "source": [
    "cnn.add(tf.keras.layers.Dense(units=250, activation='relu'))"
   ]
  },
  {
   "cell_type": "code",
   "execution_count": 12,
   "metadata": {},
   "outputs": [],
   "source": [
    "cnn.add(tf.keras.layers.Dense(units=100, activation='relu'))"
   ]
  },
  {
   "cell_type": "code",
   "execution_count": 13,
   "metadata": {},
   "outputs": [],
   "source": [
    "cnn.add(tf.keras.layers.Dense(units=10, activation='softmax'))"
   ]
  },
  {
   "cell_type": "code",
   "execution_count": 14,
   "metadata": {},
   "outputs": [],
   "source": [
    "cnn.compile(optimizer = 'adam', loss = 'categorical_crossentropy', metrics = ['accuracy'])"
   ]
  },
  {
   "cell_type": "code",
   "execution_count": 15,
   "metadata": {},
   "outputs": [
    {
     "name": "stdout",
     "output_type": "stream",
     "text": [
      "Epoch 1/10\n",
      "1563/1563 [==============================] - 594s 380ms/step - loss: 1.7373 - accuracy: 0.3518 - val_loss: 1.1543 - val_accuracy: 0.5880\n",
      "Epoch 2/10\n",
      "1563/1563 [==============================] - 138s 88ms/step - loss: 1.0981 - accuracy: 0.6120 - val_loss: 0.9589 - val_accuracy: 0.6610\n",
      "Epoch 3/10\n",
      "1563/1563 [==============================] - 142s 91ms/step - loss: 0.9146 - accuracy: 0.6816 - val_loss: 0.8651 - val_accuracy: 0.7071\n",
      "Epoch 4/10\n",
      "1563/1563 [==============================] - 142s 91ms/step - loss: 0.8171 - accuracy: 0.7174 - val_loss: 0.8674 - val_accuracy: 0.7094\n",
      "Epoch 5/10\n",
      "1563/1563 [==============================] - 144s 92ms/step - loss: 0.7485 - accuracy: 0.7391 - val_loss: 0.7694 - val_accuracy: 0.7373\n",
      "Epoch 6/10\n",
      "1563/1563 [==============================] - 151s 97ms/step - loss: 0.6873 - accuracy: 0.7593 - val_loss: 0.8085 - val_accuracy: 0.7302\n",
      "Epoch 7/10\n",
      "1563/1563 [==============================] - 150s 96ms/step - loss: 0.6520 - accuracy: 0.7730 - val_loss: 0.7495 - val_accuracy: 0.7479\n",
      "Epoch 8/10\n",
      "1563/1563 [==============================] - 149s 95ms/step - loss: 0.6204 - accuracy: 0.7821 - val_loss: 0.7777 - val_accuracy: 0.7366\n",
      "Epoch 9/10\n",
      "1563/1563 [==============================] - 152s 97ms/step - loss: 0.5863 - accuracy: 0.7947 - val_loss: 0.7920 - val_accuracy: 0.7426\n",
      "Epoch 10/10\n",
      "1563/1563 [==============================] - 147s 94ms/step - loss: 0.5605 - accuracy: 0.8027 - val_loss: 0.7470 - val_accuracy: 0.7590\n"
     ]
    },
    {
     "data": {
      "text/plain": [
       "<tensorflow.python.keras.callbacks.History at 0x20338c56fd0>"
      ]
     },
     "execution_count": 15,
     "metadata": {},
     "output_type": "execute_result"
    }
   ],
   "source": [
    "cnn.fit(x = training_set, validation_data = test_set, epochs = 10)"
   ]
  },
  {
   "cell_type": "code",
   "execution_count": 33,
   "metadata": {},
   "outputs": [
    {
     "data": {
      "text/plain": [
       "{'airplane': 0,\n",
       " 'automobile': 1,\n",
       " 'bird': 2,\n",
       " 'cat': 3,\n",
       " 'deer': 4,\n",
       " 'dog': 5,\n",
       " 'frog': 6,\n",
       " 'horse': 7,\n",
       " 'ship': 8,\n",
       " 'truck': 9}"
      ]
     },
     "execution_count": 33,
     "metadata": {},
     "output_type": "execute_result"
    }
   ],
   "source": [
    "import numpy as np\n",
    "from keras.preprocessing import image\n",
    "\n",
    "def predict(img):\n",
    "    test_image = image.load_img(str(img), target_size = (32, 32))\n",
    "    test_image = image.img_to_array(test_image)\n",
    "    test_image = np.expand_dims(test_image, axis = 0)\n",
    "    result = cnn.predict(test_image)\n",
    "    if result[0][0] == 1:\n",
    "      prediction = 'airplane'\n",
    "    elif result[0][1] == 1:\n",
    "      prediction = 'automobile'\n",
    "    elif result[0][2] == 1:\n",
    "      prediction = 'bird'\n",
    "    elif result[0][3] == 1:\n",
    "      prediction = 'cat'\n",
    "    elif result[0][4] == 1:\n",
    "      prediction = 'deer'\n",
    "    elif result[0][5] == 1:\n",
    "      prediction = 'dog'\n",
    "    elif result[0][6] == 1:\n",
    "      prediction = 'frog'\n",
    "    elif result[0][7] == 1:\n",
    "      prediction = 'horse'\n",
    "    elif result[0][8] == 1:\n",
    "      prediction = 'ship'\n",
    "    else:\n",
    "      prediction = 'truck'\n",
    "    print(prediction)\n",
    "\n",
    "training_set.class_indices"
   ]
  },
  {
   "cell_type": "code",
   "execution_count": 35,
   "metadata": {},
   "outputs": [
    {
     "name": "stdout",
     "output_type": "stream",
     "text": [
      "airplane\n"
     ]
    }
   ],
   "source": [
    "predict('D:/ITBTERCINTA/SEMESTER6/SisCer/Tugas/Tugas3/images/test/airplane/0043.jpg')"
   ]
  },
  {
   "cell_type": "code",
   "execution_count": 36,
   "metadata": {},
   "outputs": [
    {
     "name": "stdout",
     "output_type": "stream",
     "text": [
      "automobile\n"
     ]
    }
   ],
   "source": [
    "predict('D:/ITBTERCINTA/SEMESTER6/SisCer/Tugas/Tugas3/images/test/automobile/0043.jpg')"
   ]
  },
  {
   "cell_type": "code",
   "execution_count": 37,
   "metadata": {},
   "outputs": [
    {
     "name": "stdout",
     "output_type": "stream",
     "text": [
      "dog\n"
     ]
    }
   ],
   "source": [
    "predict('D:/ITBTERCINTA/SEMESTER6/SisCer/Tugas/Tugas3/images/test/bird/0043.jpg')"
   ]
  },
  {
   "cell_type": "code",
   "execution_count": 38,
   "metadata": {},
   "outputs": [
    {
     "name": "stdout",
     "output_type": "stream",
     "text": [
      "dog\n"
     ]
    }
   ],
   "source": [
    "predict('D:/ITBTERCINTA/SEMESTER6/SisCer/Tugas/Tugas3/images/test/cat/0043.jpg')"
   ]
  },
  {
   "cell_type": "code",
   "execution_count": 39,
   "metadata": {},
   "outputs": [
    {
     "name": "stdout",
     "output_type": "stream",
     "text": [
      "horse\n"
     ]
    }
   ],
   "source": [
    "predict('D:/ITBTERCINTA/SEMESTER6/SisCer/Tugas/Tugas3/images/test/dog/0043.jpg')"
   ]
  },
  {
   "cell_type": "code",
   "execution_count": 25,
   "metadata": {},
   "outputs": [
    {
     "name": "stdout",
     "output_type": "stream",
     "text": [
      "dog\n"
     ]
    }
   ],
   "source": [
    "predict('D:/ITBTERCINTA/SEMESTER6/SisCer/Tugas/Tugas3/images/test/frog/0043.jpg')"
   ]
  },
  {
   "cell_type": "code",
   "execution_count": 40,
   "metadata": {},
   "outputs": [
    {
     "name": "stdout",
     "output_type": "stream",
     "text": [
      "horse\n"
     ]
    }
   ],
   "source": [
    "predict('D:/ITBTERCINTA/SEMESTER6/SisCer/Tugas/Tugas3/images/test/horse/0043.jpg')"
   ]
  },
  {
   "cell_type": "code",
   "execution_count": 41,
   "metadata": {},
   "outputs": [
    {
     "name": "stdout",
     "output_type": "stream",
     "text": [
      "automobile\n"
     ]
    }
   ],
   "source": [
    "predict('D:/ITBTERCINTA/SEMESTER6/SisCer/Tugas/Tugas3/images/test/ship/0043.jpg')"
   ]
  },
  {
   "cell_type": "code",
   "execution_count": 42,
   "metadata": {},
   "outputs": [
    {
     "name": "stdout",
     "output_type": "stream",
     "text": [
      "automobile\n"
     ]
    }
   ],
   "source": [
    "predict('D:/ITBTERCINTA/SEMESTER6/SisCer/Tugas/Tugas3/images/test/truck/0043.jpg')"
   ]
  },
  {
   "cell_type": "code",
   "execution_count": 43,
   "metadata": {},
   "outputs": [
    {
     "name": "stdout",
     "output_type": "stream",
     "text": [
      "truck\n"
     ]
    }
   ],
   "source": [
    "predict('D:/ITBTERCINTA/SEMESTER6/SisCer/Tugas/Tugas3/images/test/deer/0043.jpg')"
   ]
  },
  {
   "cell_type": "code",
   "execution_count": null,
   "metadata": {},
   "outputs": [],
   "source": []
  }
 ],
 "metadata": {
  "kernelspec": {
   "display_name": "Python 3",
   "language": "python",
   "name": "python3"
  },
  "language_info": {
   "codemirror_mode": {
    "name": "ipython",
    "version": 3
   },
   "file_extension": ".py",
   "mimetype": "text/x-python",
   "name": "python",
   "nbconvert_exporter": "python",
   "pygments_lexer": "ipython3",
   "version": "3.7.3"
  }
 },
 "nbformat": 4,
 "nbformat_minor": 2
}
