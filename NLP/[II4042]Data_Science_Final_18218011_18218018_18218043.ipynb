{
 "cells": [
  {
   "cell_type": "markdown",
   "metadata": {
    "id": "6C0ZuJPh27XV"
   },
   "source": [
    "\n",
    "# Milestone 4 Tugas Besar Kecerdasan Buatan untuk Bisnis II4042\n",
    "---\n",
    "#### 18218011 Widad Istiqomah\n",
    "#### 18218018 Patrick Segara\n",
    "#### 18218043 Christovito Hidajat\n",
    "\n",
    "### Data source\n",
    "https://www.kaggle.com/c/student-shopee-code-league-sentiment-analysis/data\n",
    "\n",
    "### Data field\n",
    "#### review_id - berisi id unik dari sebuah ulasan pengguna;\n",
    "#### review - berisi ulasan pengguna;\n",
    "#### rating - penilaian rating dari pengguna"
   ]
  },
  {
   "cell_type": "markdown",
   "metadata": {
    "id": "AevGbgcV5wkB"
   },
   "source": [
    "# BAGIAN 1: Business Understanding"
   ]
  },
  {
   "cell_type": "markdown",
   "metadata": {
    "id": "q1h_VWxJ54T9"
   },
   "source": [
    "Di Indonesia, ada sekitar 46,1 juta pengguna melakukan transaksi online lebih dari sekali dalam sebulan, 18,8 juta pengguna melakukannya kurang dari sekali dalam sebulan, 6,2 juta pengguna melakukannya seminggu sekali, dan lebih dari 5 juta melakukannya lebih dari sekali dalam seminggu. \r\n",
    "(sumber: https://www.researchgate.net/publication/324838610_Sentiment_Analysis_in_the_Sales_Review_of_Indonesian_Marketplace_by_Utilizing_Support_Vector_Machine)\r\n",
    "\r\n",
    "Seringkali review yang ditulis oleh pengguna tidak memiliki struktur yang baik. Padahal, peringkat dan komentar yang diberikan untuk suatu produk oleh pembeli dapat memberikan pemahaman bagi penjual dan pemilik dari platform online marketplace. Ulasan produk membantu mereka memahami kebutuhan pelanggan dan dengan cepat menyesuaikan layanan untuk memberikan pengalaman yang jauh lebih baik bagi pada pesanan berikutnya. Komentar pengguna untuk produk mencakup berbagai aspek seperti layanan pengiriman, pengemasan produk, kualitas produk, spesifikasi produk, metode pembayaran, dll. Oleh karena itu, penting untuk membangun suatu sistem yang akurat untuk memahami ulasan tersebut. \r\n",
    "\r\n",
    "## Key Question\r\n",
    "Dapatkah kita mengeluarkan kebijakan dan fitur yang tepat guna berdasarkan data ulasan dan rating dari pelanggan?\r\n",
    "\r\n",
    "## Business Metrics\r\n",
    "#### % peningkatan kepuasan pelanggan\r\n",
    "#### % peningkatan pemahaman penjual terhadap ulasan pelanggan\r\n",
    "#### % peningkatan lalu lintas kunjungan terhadap platform online marketplace"
   ]
  },
  {
   "cell_type": "markdown",
   "metadata": {
    "id": "2-tqpW7H5-Ml"
   },
   "source": [
    "# BAGIAN 2: Data Understanding"
   ]
  },
  {
   "cell_type": "markdown",
   "metadata": {
    "id": "dY826JHK6Aci"
   },
   "source": [
    "Data yang dianalisis adalah kumpulan data ulasan produk Shopee. Data memiliki lebih dari 150 ribu record berisi ulasan dari berbagai kategori."
   ]
  },
  {
   "cell_type": "code",
   "execution_count": null,
   "metadata": {
    "colab": {
     "base_uri": "https://localhost:8080/"
    },
    "id": "cOE0NuyCBMzV",
    "outputId": "ece83d3b-88e0-403a-c2eb-10458ba17a6a"
   },
   "outputs": [
    {
     "name": "stdout",
     "output_type": "stream",
     "text": [
      "Requirement already satisfied: gensim in /usr/local/lib/python3.6/dist-packages (3.6.0)\n",
      "Requirement already satisfied: scipy>=0.18.1 in /usr/local/lib/python3.6/dist-packages (from gensim) (1.4.1)\n",
      "Requirement already satisfied: smart-open>=1.2.1 in /usr/local/lib/python3.6/dist-packages (from gensim) (3.0.0)\n",
      "Requirement already satisfied: numpy>=1.11.3 in /usr/local/lib/python3.6/dist-packages (from gensim) (1.18.5)\n",
      "Requirement already satisfied: six>=1.5.0 in /usr/local/lib/python3.6/dist-packages (from gensim) (1.15.0)\n",
      "Requirement already satisfied: requests in /usr/local/lib/python3.6/dist-packages (from smart-open>=1.2.1->gensim) (2.23.0)\n",
      "Requirement already satisfied: chardet<4,>=3.0.2 in /usr/local/lib/python3.6/dist-packages (from requests->smart-open>=1.2.1->gensim) (3.0.4)\n",
      "Requirement already satisfied: urllib3!=1.25.0,!=1.25.1,<1.26,>=1.21.1 in /usr/local/lib/python3.6/dist-packages (from requests->smart-open>=1.2.1->gensim) (1.24.3)\n",
      "Requirement already satisfied: certifi>=2017.4.17 in /usr/local/lib/python3.6/dist-packages (from requests->smart-open>=1.2.1->gensim) (2020.11.8)\n",
      "Requirement already satisfied: idna<3,>=2.5 in /usr/local/lib/python3.6/dist-packages (from requests->smart-open>=1.2.1->gensim) (2.10)\n"
     ]
    }
   ],
   "source": [
    "!pip install gensim"
   ]
  },
  {
   "cell_type": "code",
   "execution_count": 5,
   "metadata": {
    "id": "25-q3EYE5e8F"
   },
   "outputs": [],
   "source": [
    "import pandas as pd\n",
    "import numpy as np\n",
    "import matplotlib.pyplot as plt\n",
    "from wordcloud import WordCloud, STOPWORDS\n",
    "from collections import Counter\n",
    "import nltk\n",
    "import string\n",
    "import re\n",
    "from nltk.stem import WordNetLemmatizer\n",
    "from nltk.tokenize import sent_tokenize, word_tokenize\n",
    "from nltk.corpus import wordnet\n",
    "try:\n",
    "    import cPickle as pickle\n",
    "except ImportError: \n",
    "    import pickle\n",
    "from nltk.corpus import stopwords \n",
    "import warnings\n",
    "import gensim \n",
    "from gensim.models import Word2Vec\n",
    "from sklearn.cluster import KMeans\n",
    "import time"
   ]
  },
  {
   "cell_type": "code",
   "execution_count": null,
   "metadata": {
    "id": "DWY2x9tkBKKy",
    "outputId": "b8da0ce3-91c1-4636-ad9b-9f7714f6a3b1"
   },
   "outputs": [
    {
     "name": "stderr",
     "output_type": "stream",
     "text": [
      "[nltk_data] Downloading package punkt to\n",
      "[nltk_data]     C:\\Users\\Acer\\AppData\\Roaming\\nltk_data...\n",
      "[nltk_data]   Package punkt is already up-to-date!\n",
      "[nltk_data] Downloading package averaged_perceptron_tagger to\n",
      "[nltk_data]     C:\\Users\\Acer\\AppData\\Roaming\\nltk_data...\n",
      "[nltk_data]   Package averaged_perceptron_tagger is already up-to-\n",
      "[nltk_data]       date!\n",
      "[nltk_data] Downloading package wordnet to\n",
      "[nltk_data]     C:\\Users\\Acer\\AppData\\Roaming\\nltk_data...\n",
      "[nltk_data]   Package wordnet is already up-to-date!\n",
      "[nltk_data] Downloading package stopwords to\n",
      "[nltk_data]     C:\\Users\\Acer\\AppData\\Roaming\\nltk_data...\n",
      "[nltk_data]   Package stopwords is already up-to-date!\n"
     ]
    },
    {
     "data": {
      "text/plain": [
       "True"
      ]
     },
     "execution_count": 18,
     "metadata": {
      "tags": []
     },
     "output_type": "execute_result"
    }
   ],
   "source": [
    "nltk.download('punkt')\n",
    "nltk.download('averaged_perceptron_tagger')\n",
    "nltk.download('wordnet')\n",
    "nltk.download('stopwords')"
   ]
  },
  {
   "cell_type": "code",
   "execution_count": 2,
   "metadata": {
    "colab": {
     "base_uri": "https://localhost:8080/"
    },
    "id": "oYJxFNyfBmAc",
    "outputId": "92b5ae7d-5a12-4ed4-9c35-cb532d73432c"
   },
   "outputs": [
    {
     "name": "stdout",
     "output_type": "stream",
     "text": [
      "Mounted at /content/drive\n"
     ]
    }
   ],
   "source": [
    "from google.colab import drive\n",
    "drive.mount('/content/drive')"
   ]
  },
  {
   "cell_type": "code",
   "execution_count": null,
   "metadata": {
    "id": "bvJuAxIGBKKt",
    "outputId": "24356e81-55f8-46f5-b7ab-a1b96aa8d601"
   },
   "outputs": [
    {
     "data": {
      "text/plain": [
       "(146811, 3)"
      ]
     },
     "execution_count": 2,
     "metadata": {
      "tags": []
     },
     "output_type": "execute_result"
    }
   ],
   "source": [
    "train=pd.read_csv('train.csv')\n",
    "train.shape"
   ]
  },
  {
   "cell_type": "code",
   "execution_count": null,
   "metadata": {
    "colab": {
     "base_uri": "https://localhost:8080/",
     "height": 195
    },
    "id": "-girgLRU-2QN",
    "outputId": "04e6c296-914d-409b-c69e-1b1de92ed713"
   },
   "outputs": [
    {
     "data": {
      "text/html": [
       "<div>\n",
       "<style scoped>\n",
       "    .dataframe tbody tr th:only-of-type {\n",
       "        vertical-align: middle;\n",
       "    }\n",
       "\n",
       "    .dataframe tbody tr th {\n",
       "        vertical-align: top;\n",
       "    }\n",
       "\n",
       "    .dataframe thead th {\n",
       "        text-align: right;\n",
       "    }\n",
       "</style>\n",
       "<table border=\"1\" class=\"dataframe\">\n",
       "  <thead>\n",
       "    <tr style=\"text-align: right;\">\n",
       "      <th></th>\n",
       "      <th>review_id</th>\n",
       "      <th>review</th>\n",
       "      <th>rating</th>\n",
       "    </tr>\n",
       "  </thead>\n",
       "  <tbody>\n",
       "    <tr>\n",
       "      <th>0</th>\n",
       "      <td>0</td>\n",
       "      <td>Ga disappointed neat products .. Meletot Hilsn...</td>\n",
       "      <td>1</td>\n",
       "    </tr>\n",
       "    <tr>\n",
       "      <th>1</th>\n",
       "      <td>1</td>\n",
       "      <td>Rdtanya replace broken glass, broken chargernya</td>\n",
       "      <td>1</td>\n",
       "    </tr>\n",
       "    <tr>\n",
       "      <th>2</th>\n",
       "      <td>2</td>\n",
       "      <td>Nyesel bngt dsni shopping antecedent photo mes...</td>\n",
       "      <td>1</td>\n",
       "    </tr>\n",
       "    <tr>\n",
       "      <th>3</th>\n",
       "      <td>3</td>\n",
       "      <td>Sent a light blue suit goods ga want a refund</td>\n",
       "      <td>1</td>\n",
       "    </tr>\n",
       "    <tr>\n",
       "      <th>4</th>\n",
       "      <td>4</td>\n",
       "      <td>Pendants came with dents and scratches on its ...</td>\n",
       "      <td>1</td>\n",
       "    </tr>\n",
       "  </tbody>\n",
       "</table>\n",
       "</div>"
      ],
      "text/plain": [
       "   review_id                                             review  rating\n",
       "0          0  Ga disappointed neat products .. Meletot Hilsn...       1\n",
       "1          1    Rdtanya replace broken glass, broken chargernya       1\n",
       "2          2  Nyesel bngt dsni shopping antecedent photo mes...       1\n",
       "3          3      Sent a light blue suit goods ga want a refund       1\n",
       "4          4  Pendants came with dents and scratches on its ...       1"
      ]
     },
     "execution_count": 3,
     "metadata": {
      "tags": []
     },
     "output_type": "execute_result"
    }
   ],
   "source": [
    "train.head()"
   ]
  },
  {
   "cell_type": "code",
   "execution_count": null,
   "metadata": {
    "colab": {
     "base_uri": "https://localhost:8080/"
    },
    "id": "rz4VGojh-6I6",
    "outputId": "0efe6979-4e95-4c3f-f410-79fc7deb4a63"
   },
   "outputs": [
    {
     "data": {
      "text/plain": [
       "4    41865\n",
       "5    41515\n",
       "3    35941\n",
       "1    14785\n",
       "2    12705\n",
       "Name: rating, dtype: int64"
      ]
     },
     "execution_count": 4,
     "metadata": {
      "tags": []
     },
     "output_type": "execute_result"
    }
   ],
   "source": [
    "train.rating.value_counts()"
   ]
  },
  {
   "cell_type": "code",
   "execution_count": null,
   "metadata": {
    "colab": {
     "base_uri": "https://localhost:8080/"
    },
    "id": "4tYapc2R-_YU",
    "outputId": "3c335508-0fe4-4a1c-ffd2-f7d4de09890d"
   },
   "outputs": [
    {
     "data": {
      "text/plain": [
       "count    146811.000000\n",
       "mean          3.562764\n",
       "std           1.260537\n",
       "min           1.000000\n",
       "25%           3.000000\n",
       "50%           4.000000\n",
       "75%           5.000000\n",
       "max           5.000000\n",
       "Name: rating, dtype: float64"
      ]
     },
     "execution_count": 5,
     "metadata": {
      "tags": []
     },
     "output_type": "execute_result"
    }
   ],
   "source": [
    "train.rating.describe()"
   ]
  },
  {
   "cell_type": "markdown",
   "metadata": {
    "id": "UWA8VRzr_HKd"
   },
   "source": [
    "Data memiliki 146811 baris dan 3 kolom. Pesebaran data dapat dilihat dari hasil di atas."
   ]
  },
  {
   "cell_type": "code",
   "execution_count": null,
   "metadata": {
    "colab": {
     "base_uri": "https://localhost:8080/"
    },
    "id": "QPgul8hNigMp",
    "outputId": "19e7b661-80e7-49e5-8475-988ceb2a72cc"
   },
   "outputs": [
    {
     "name": "stdout",
     "output_type": "stream",
     "text": [
      "review_id     int64\n",
      "review       object\n",
      "rating        int64\n",
      "dtype: object\n"
     ]
    }
   ],
   "source": [
    "print(train.dtypes)"
   ]
  },
  {
   "cell_type": "code",
   "execution_count": null,
   "metadata": {
    "id": "LygeU1_LBKKw",
    "outputId": "df5ffc3d-dfd3-49ed-b0cc-e86a63df76c6"
   },
   "outputs": [
    {
     "name": "stdout",
     "output_type": "stream",
     "text": [
      "<class 'pandas.core.frame.DataFrame'>\n",
      "RangeIndex: 146811 entries, 0 to 146810\n",
      "Data columns (total 3 columns):\n",
      "review_id    146811 non-null int64\n",
      "review       146811 non-null object\n",
      "rating       146811 non-null int64\n",
      "dtypes: int64(2), object(1)\n",
      "memory usage: 3.4+ MB\n"
     ]
    }
   ],
   "source": [
    "train.info()"
   ]
  },
  {
   "cell_type": "code",
   "execution_count": null,
   "metadata": {
    "id": "K-6PVnP6i85V"
   },
   "outputs": [],
   "source": [
    "#data memiliki 2 jenis tipe, yaitu int64 untuk 'review_id' dan 'rating', serta object untuk 'review'"
   ]
  },
  {
   "cell_type": "markdown",
   "metadata": {
    "id": "m93Dl5sKjovr"
   },
   "source": [
    "Data memiliki 2 jenis tipe, yaitu int64 untuk 'review_id' dan 'rating', serta object untuk 'review'. Tipe data ini sudah sesuai dengan tipe data yang diinginkan, yaitu angka dengan tipe integer dan kalimat dengan tipe objek."
   ]
  },
  {
   "cell_type": "code",
   "execution_count": null,
   "metadata": {
    "colab": {
     "base_uri": "https://localhost:8080/",
     "height": 284
    },
    "id": "_QCkf8M_i9-s",
    "outputId": "eeaf6629-591e-43df-c1dd-62c79a2e9129"
   },
   "outputs": [
    {
     "data": {
      "text/html": [
       "<div>\n",
       "<style scoped>\n",
       "    .dataframe tbody tr th:only-of-type {\n",
       "        vertical-align: middle;\n",
       "    }\n",
       "\n",
       "    .dataframe tbody tr th {\n",
       "        vertical-align: top;\n",
       "    }\n",
       "\n",
       "    .dataframe thead th {\n",
       "        text-align: right;\n",
       "    }\n",
       "</style>\n",
       "<table border=\"1\" class=\"dataframe\">\n",
       "  <thead>\n",
       "    <tr style=\"text-align: right;\">\n",
       "      <th></th>\n",
       "      <th>rating</th>\n",
       "    </tr>\n",
       "  </thead>\n",
       "  <tbody>\n",
       "    <tr>\n",
       "      <th>count</th>\n",
       "      <td>146811.000000</td>\n",
       "    </tr>\n",
       "    <tr>\n",
       "      <th>mean</th>\n",
       "      <td>3.562764</td>\n",
       "    </tr>\n",
       "    <tr>\n",
       "      <th>std</th>\n",
       "      <td>1.260537</td>\n",
       "    </tr>\n",
       "    <tr>\n",
       "      <th>min</th>\n",
       "      <td>1.000000</td>\n",
       "    </tr>\n",
       "    <tr>\n",
       "      <th>25%</th>\n",
       "      <td>3.000000</td>\n",
       "    </tr>\n",
       "    <tr>\n",
       "      <th>50%</th>\n",
       "      <td>4.000000</td>\n",
       "    </tr>\n",
       "    <tr>\n",
       "      <th>75%</th>\n",
       "      <td>5.000000</td>\n",
       "    </tr>\n",
       "    <tr>\n",
       "      <th>max</th>\n",
       "      <td>5.000000</td>\n",
       "    </tr>\n",
       "  </tbody>\n",
       "</table>\n",
       "</div>"
      ],
      "text/plain": [
       "              rating\n",
       "count  146811.000000\n",
       "mean        3.562764\n",
       "std         1.260537\n",
       "min         1.000000\n",
       "25%         3.000000\n",
       "50%         4.000000\n",
       "75%         5.000000\n",
       "max         5.000000"
      ]
     },
     "execution_count": 9,
     "metadata": {
      "tags": []
     },
     "output_type": "execute_result"
    }
   ],
   "source": [
    "train[['rating']].describe()"
   ]
  },
  {
   "cell_type": "code",
   "execution_count": null,
   "metadata": {
    "colab": {
     "base_uri": "https://localhost:8080/"
    },
    "id": "h2ko3L-ukaRO",
    "outputId": "e759ff78-f66e-41eb-bdc1-91380964f6dd"
   },
   "outputs": [
    {
     "data": {
      "text/plain": [
       "review_id    0\n",
       "review       0\n",
       "rating       0\n",
       "dtype: int64"
      ]
     },
     "execution_count": 10,
     "metadata": {
      "tags": []
     },
     "output_type": "execute_result"
    }
   ],
   "source": [
    "train.isnull().sum()"
   ]
  },
  {
   "cell_type": "markdown",
   "metadata": {
    "id": "tUcGE1EHkiY0"
   },
   "source": [
    "Karena tidak terdapat data yang kosong, tidak perlu dilakukan proses lebih lanjut untuk mengisi data yang kosong."
   ]
  },
  {
   "cell_type": "code",
   "execution_count": null,
   "metadata": {
    "colab": {
     "base_uri": "https://localhost:8080/",
     "height": 265
    },
    "id": "m8yWLl3n_akP",
    "outputId": "65b33ade-fe8e-438d-988d-607632927186"
   },
   "outputs": [
    {
     "data": {
      "text/plain": [
       "<Figure size 640x480 with 1 Axes>"
      ]
     },
     "metadata": {
      "tags": []
     },
     "output_type": "display_data"
    }
   ],
   "source": [
    "plt.bar(train.rating.value_counts().index,train.rating.value_counts())\n",
    "plt.show()"
   ]
  },
  {
   "cell_type": "code",
   "execution_count": null,
   "metadata": {
    "id": "QWxPCgKYBKKx",
    "outputId": "1b862303-7cbd-45f3-c374-a1f55f9488c8"
   },
   "outputs": [
    {
     "name": "stdout",
     "output_type": "stream",
     "text": [
      "Requirement already satisfied: wordcloud in c:\\programdata\\anaconda3\\lib\\site-packages (1.8.1)\n",
      "Requirement already satisfied: numpy>=1.6.1 in c:\\programdata\\anaconda3\\lib\\site-packages (from wordcloud) (1.16.4)\n",
      "Requirement already satisfied: pillow in c:\\programdata\\anaconda3\\lib\\site-packages (from wordcloud) (6.1.0)\n",
      "Requirement already satisfied: matplotlib in c:\\programdata\\anaconda3\\lib\\site-packages (from wordcloud) (3.1.0)\n",
      "Requirement already satisfied: cycler>=0.10 in c:\\programdata\\anaconda3\\lib\\site-packages (from matplotlib->wordcloud) (0.10.0)\n",
      "Requirement already satisfied: kiwisolver>=1.0.1 in c:\\programdata\\anaconda3\\lib\\site-packages (from matplotlib->wordcloud) (1.1.0)\n",
      "Requirement already satisfied: pyparsing!=2.0.4,!=2.1.2,!=2.1.6,>=2.0.1 in c:\\programdata\\anaconda3\\lib\\site-packages (from matplotlib->wordcloud) (2.4.0)\n",
      "Requirement already satisfied: python-dateutil>=2.1 in c:\\programdata\\anaconda3\\lib\\site-packages (from matplotlib->wordcloud) (2.8.0)\n",
      "Requirement already satisfied: six in c:\\programdata\\anaconda3\\lib\\site-packages (from cycler>=0.10->matplotlib->wordcloud) (1.12.0)\n",
      "Requirement already satisfied: setuptools in c:\\programdata\\anaconda3\\lib\\site-packages (from kiwisolver>=1.0.1->matplotlib->wordcloud) (41.0.1)\n",
      "Note: you may need to restart the kernel to use updated packages.\n"
     ]
    }
   ],
   "source": [
    "pip install wordcloud"
   ]
  },
  {
   "cell_type": "markdown",
   "metadata": {
    "id": "s3hcgUeiBD6z"
   },
   "source": [
    "Pesebaran data paling banyak berada pada rating 3, 4, dan 5."
   ]
  },
  {
   "cell_type": "code",
   "execution_count": null,
   "metadata": {
    "colab": {
     "base_uri": "https://localhost:8080/"
    },
    "id": "eMQdPRIsoErE",
    "outputId": "0c0dbdca-02e2-4b12-e04c-421d3681ac89"
   },
   "outputs": [
    {
     "data": {
      "image/png": "[encoded data removed]",
      "text/plain": [
       "<Figure size 576x576 with 1 Axes>"
      ]
     },
     "metadata": {
      "tags": []
     },
     "output_type": "display_data"
    }
   ],
   "source": [
    "text = train['review'].values \n",
    "\n",
    "wordcloud = WordCloud(width = 800, height = 800, \n",
    "            background_color ='white', \n",
    "            min_font_size = 10).generate(str(text)) \n",
    "\n",
    "plt.figure(figsize = (8, 8), facecolor = None) \n",
    "plt.imshow(wordcloud)\n",
    "plt.axis(\"off\")\n",
    "plt.show()"
   ]
  },
  {
   "cell_type": "markdown",
   "metadata": {
    "id": "SaOdYGmGBKKx"
   },
   "source": [
    "Tampilan keseluruhan kata pada kolom review dalam bentuk word cloud"
   ]
  },
  {
   "cell_type": "code",
   "execution_count": null,
   "metadata": {
    "id": "SF8SBBDapmdH",
    "outputId": "f3f677ac-e792-4bae-a582-7a4c80e900ec"
   },
   "outputs": [
    {
     "data": {
      "text/html": [
       "<div>\n",
       "<style scoped>\n",
       "    .dataframe tbody tr th:only-of-type {\n",
       "        vertical-align: middle;\n",
       "    }\n",
       "\n",
       "    .dataframe tbody tr th {\n",
       "        vertical-align: top;\n",
       "    }\n",
       "\n",
       "    .dataframe thead th {\n",
       "        text-align: right;\n",
       "    }\n",
       "</style>\n",
       "<table border=\"1\" class=\"dataframe\">\n",
       "  <thead>\n",
       "    <tr style=\"text-align: right;\">\n",
       "      <th></th>\n",
       "      <th>count</th>\n",
       "    </tr>\n",
       "  </thead>\n",
       "  <tbody>\n",
       "    <tr>\n",
       "      <th>one</th>\n",
       "      <td>6.0</td>\n",
       "    </tr>\n",
       "    <tr>\n",
       "      <th>the</th>\n",
       "      <td>6.0</td>\n",
       "    </tr>\n",
       "    <tr>\n",
       "      <th>of</th>\n",
       "      <td>4.0</td>\n",
       "    </tr>\n",
       "    <tr>\n",
       "      <th>collagen</th>\n",
       "      <td>3.0</td>\n",
       "    </tr>\n",
       "    <tr>\n",
       "      <th>a</th>\n",
       "      <td>3.0</td>\n",
       "    </tr>\n",
       "    <tr>\n",
       "      <th>goods</th>\n",
       "      <td>3.0</td>\n",
       "    </tr>\n",
       "    <tr>\n",
       "      <th>in</th>\n",
       "      <td>3.0</td>\n",
       "    </tr>\n",
       "    <tr>\n",
       "      <th>photo</th>\n",
       "      <td>2.0</td>\n",
       "    </tr>\n",
       "    <tr>\n",
       "      <th>The</th>\n",
       "      <td>2.0</td>\n",
       "    </tr>\n",
       "    <tr>\n",
       "      <th>but</th>\n",
       "      <td>2.0</td>\n",
       "    </tr>\n",
       "    <tr>\n",
       "      <th>change</th>\n",
       "      <td>2.0</td>\n",
       "    </tr>\n",
       "    <tr>\n",
       "      <th>pictures</th>\n",
       "      <td>2.0</td>\n",
       "    </tr>\n",
       "    <tr>\n",
       "      <th>super</th>\n",
       "      <td>2.0</td>\n",
       "    </tr>\n",
       "    <tr>\n",
       "      <th>my</th>\n",
       "      <td>2.0</td>\n",
       "    </tr>\n",
       "    <tr>\n",
       "      <th>existing</th>\n",
       "      <td>2.0</td>\n",
       "    </tr>\n",
       "    <tr>\n",
       "      <th>ma</th>\n",
       "      <td>2.0</td>\n",
       "    </tr>\n",
       "    <tr>\n",
       "      <th>according</th>\n",
       "      <td>2.0</td>\n",
       "    </tr>\n",
       "    <tr>\n",
       "      <th>mini,</th>\n",
       "      <td>2.0</td>\n",
       "    </tr>\n",
       "    <tr>\n",
       "      <th>and</th>\n",
       "      <td>2.0</td>\n",
       "    </tr>\n",
       "    <tr>\n",
       "      <th>shoe,</th>\n",
       "      <td>2.0</td>\n",
       "    </tr>\n",
       "    <tr>\n",
       "      <th>broken</th>\n",
       "      <td>2.0</td>\n",
       "    </tr>\n",
       "    <tr>\n",
       "      <th>enough</th>\n",
       "      <td>2.0</td>\n",
       "    </tr>\n",
       "    <tr>\n",
       "      <th>sent</th>\n",
       "      <td>1.0</td>\n",
       "    </tr>\n",
       "    <tr>\n",
       "      <th>fragrant.</th>\n",
       "      <td>1.0</td>\n",
       "    </tr>\n",
       "    <tr>\n",
       "      <th>fraudulent</th>\n",
       "      <td>1.0</td>\n",
       "    </tr>\n",
       "    <tr>\n",
       "      <th>Shop</th>\n",
       "      <td>1.0</td>\n",
       "    </tr>\n",
       "    <tr>\n",
       "      <th>business.</th>\n",
       "      <td>1.0</td>\n",
       "    </tr>\n",
       "    <tr>\n",
       "      <th>collect</th>\n",
       "      <td>1.0</td>\n",
       "    </tr>\n",
       "    <tr>\n",
       "      <th>nozzle,</th>\n",
       "      <td>1.0</td>\n",
       "    </tr>\n",
       "    <tr>\n",
       "      <th>garden</th>\n",
       "      <td>1.0</td>\n",
       "    </tr>\n",
       "    <tr>\n",
       "      <th>...</th>\n",
       "      <td>...</td>\n",
       "    </tr>\n",
       "    <tr>\n",
       "      <th>it</th>\n",
       "      <td>1.0</td>\n",
       "    </tr>\n",
       "    <tr>\n",
       "      <th>came</th>\n",
       "      <td>1.0</td>\n",
       "    </tr>\n",
       "    <tr>\n",
       "      <th>quickly.</th>\n",
       "      <td>1.0</td>\n",
       "    </tr>\n",
       "    <tr>\n",
       "      <th>with</th>\n",
       "      <td>1.0</td>\n",
       "    </tr>\n",
       "    <tr>\n",
       "      <th>Meletot</th>\n",
       "      <td>1.0</td>\n",
       "    </tr>\n",
       "    <tr>\n",
       "      <th>surface.</th>\n",
       "      <td>1.0</td>\n",
       "    </tr>\n",
       "    <tr>\n",
       "      <th>its</th>\n",
       "      <td>1.0</td>\n",
       "    </tr>\n",
       "    <tr>\n",
       "      <th>like</th>\n",
       "      <td>1.0</td>\n",
       "    </tr>\n",
       "    <tr>\n",
       "      <th>will</th>\n",
       "      <td>1.0</td>\n",
       "    </tr>\n",
       "    <tr>\n",
       "      <th>Pendants</th>\n",
       "      <td>1.0</td>\n",
       "    </tr>\n",
       "    <tr>\n",
       "      <th>dents</th>\n",
       "      <td>1.0</td>\n",
       "    </tr>\n",
       "    <tr>\n",
       "      <th>looks</th>\n",
       "      <td>1.0</td>\n",
       "    </tr>\n",
       "    <tr>\n",
       "      <th>coating</th>\n",
       "      <td>1.0</td>\n",
       "    </tr>\n",
       "    <tr>\n",
       "      <th>ga</th>\n",
       "      <td>1.0</td>\n",
       "    </tr>\n",
       "    <tr>\n",
       "      <th>want</th>\n",
       "      <td>1.0</td>\n",
       "    </tr>\n",
       "    <tr>\n",
       "      <th>light</th>\n",
       "      <td>1.0</td>\n",
       "    </tr>\n",
       "    <tr>\n",
       "      <th>blue</th>\n",
       "      <td>1.0</td>\n",
       "    </tr>\n",
       "    <tr>\n",
       "      <th>suit</th>\n",
       "      <td>1.0</td>\n",
       "    </tr>\n",
       "    <tr>\n",
       "      <th>Sent</th>\n",
       "      <td>1.0</td>\n",
       "    </tr>\n",
       "    <tr>\n",
       "      <th>refund</th>\n",
       "      <td>1.0</td>\n",
       "    </tr>\n",
       "    <tr>\n",
       "      <th>gk</th>\n",
       "      <td>1.0</td>\n",
       "    </tr>\n",
       "    <tr>\n",
       "      <th>message</th>\n",
       "      <td>1.0</td>\n",
       "    </tr>\n",
       "    <tr>\n",
       "      <th>jg</th>\n",
       "      <td>1.0</td>\n",
       "    </tr>\n",
       "    <tr>\n",
       "      <th>description</th>\n",
       "      <td>1.0</td>\n",
       "    </tr>\n",
       "    <tr>\n",
       "      <th>already</th>\n",
       "      <td>1.0</td>\n",
       "    </tr>\n",
       "    <tr>\n",
       "      <th>originalnya.pas</th>\n",
       "      <td>1.0</td>\n",
       "    </tr>\n",
       "    <tr>\n",
       "      <th>face</th>\n",
       "      <td>1.0</td>\n",
       "    </tr>\n",
       "    <tr>\n",
       "      <th>house</th>\n",
       "      <td>1.0</td>\n",
       "    </tr>\n",
       "    <tr>\n",
       "      <th>even</th>\n",
       "      <td>1.0</td>\n",
       "    </tr>\n",
       "    <tr>\n",
       "      <th>other</th>\n",
       "      <td>1.0</td>\n",
       "    </tr>\n",
       "  </tbody>\n",
       "</table>\n",
       "<p>148 rows × 1 columns</p>\n",
       "</div>"
      ],
      "text/plain": [
       "                 count\n",
       "one                6.0\n",
       "the                6.0\n",
       "of                 4.0\n",
       "collagen           3.0\n",
       "a                  3.0\n",
       "goods              3.0\n",
       "in                 3.0\n",
       "photo              2.0\n",
       "The                2.0\n",
       "but                2.0\n",
       "change             2.0\n",
       "pictures           2.0\n",
       "super              2.0\n",
       "my                 2.0\n",
       "existing           2.0\n",
       "ma                 2.0\n",
       "according          2.0\n",
       "mini,              2.0\n",
       "and                2.0\n",
       "shoe,              2.0\n",
       "broken             2.0\n",
       "enough             2.0\n",
       "sent               1.0\n",
       "fragrant.          1.0\n",
       "fraudulent         1.0\n",
       "Shop               1.0\n",
       "business.          1.0\n",
       "collect            1.0\n",
       "nozzle,            1.0\n",
       "garden             1.0\n",
       "...                ...\n",
       "it                 1.0\n",
       "came               1.0\n",
       "quickly.           1.0\n",
       "with               1.0\n",
       "Meletot            1.0\n",
       "surface.           1.0\n",
       "its                1.0\n",
       "like               1.0\n",
       "will               1.0\n",
       "Pendants           1.0\n",
       "dents              1.0\n",
       "looks              1.0\n",
       "coating            1.0\n",
       "ga                 1.0\n",
       "want               1.0\n",
       "light              1.0\n",
       "blue               1.0\n",
       "suit               1.0\n",
       "Sent               1.0\n",
       "refund             1.0\n",
       "gk                 1.0\n",
       "message            1.0\n",
       "jg                 1.0\n",
       "description        1.0\n",
       "already            1.0\n",
       "originalnya.pas    1.0\n",
       "face               1.0\n",
       "house              1.0\n",
       "even               1.0\n",
       "other              1.0\n",
       "\n",
       "[148 rows x 1 columns]"
      ]
     },
     "execution_count": 14,
     "metadata": {
      "tags": []
     },
     "output_type": "execute_result"
    }
   ],
   "source": [
    "data=train['review'].head(10)\n",
    "datasplit = data.apply(lambda x: pd.value_counts(x.split(\" \"))).sum(axis = 0)\n",
    "dfsplit = pd.DataFrame(datasplit)\n",
    "header = ['count']\n",
    "dfsplit.columns = header\n",
    "dfsplitsorted = dfsplit.sort_values(by = ['count'], ascending = False)\n",
    "dfsplitsorted"
   ]
  },
  {
   "cell_type": "markdown",
   "metadata": {
    "id": "LqmHNTTHBKKx"
   },
   "source": [
    "Persebaran masing-masing kata dengan jumlahnya untuk 10 baris pertama"
   ]
  },
  {
   "cell_type": "code",
   "execution_count": null,
   "metadata": {
    "id": "pe5x9WHrBKKx",
    "outputId": "c26c2349-fd2b-4526-ba9c-c2eb35fa2fbc"
   },
   "outputs": [
    {
     "data": {
      "text/plain": [
       "<Figure size 1296x1296 with 0 Axes>"
      ]
     },
     "execution_count": 15,
     "metadata": {
      "tags": []
     },
     "output_type": "execute_result"
    },
    {
     "data": {
      "image/png": "[encoded data removed]",
      "text/plain": [
       "<Figure size 432x288 with 1 Axes>"
      ]
     },
     "metadata": {
      "tags": []
     },
     "output_type": "display_data"
    },
    {
     "data": {
      "text/plain": [
       "<Figure size 1296x1296 with 0 Axes>"
      ]
     },
     "metadata": {
      "tags": []
     },
     "output_type": "display_data"
    }
   ],
   "source": [
    "df = dfsplitsorted.head(15).plot(kind='barh')\n",
    "plt.figure(figsize = (18, 18), facecolor = None)"
   ]
  },
  {
   "cell_type": "markdown",
   "metadata": {
    "id": "PgZuyIEHBKKx"
   },
   "source": [
    "Bar chart persebaran masing-masing kata dengan jumlahnya untuk 10 baris pertama dan 15 kata teratas"
   ]
  },
  {
   "cell_type": "code",
   "execution_count": null,
   "metadata": {
    "id": "abw6pPHLBKKx",
    "outputId": "c1f7537e-cd60-40cf-f730-3101c9796f7e"
   },
   "outputs": [
    {
     "data": {
      "text/html": [
       "<div>\n",
       "<style scoped>\n",
       "    .dataframe tbody tr th:only-of-type {\n",
       "        vertical-align: middle;\n",
       "    }\n",
       "\n",
       "    .dataframe tbody tr th {\n",
       "        vertical-align: top;\n",
       "    }\n",
       "\n",
       "    .dataframe thead th {\n",
       "        text-align: right;\n",
       "    }\n",
       "</style>\n",
       "<table border=\"1\" class=\"dataframe\">\n",
       "  <thead>\n",
       "    <tr style=\"text-align: right;\">\n",
       "      <th></th>\n",
       "      <th>Word</th>\n",
       "      <th>Count</th>\n",
       "    </tr>\n",
       "  </thead>\n",
       "  <tbody>\n",
       "    <tr>\n",
       "      <th>0</th>\n",
       "      <td>the</td>\n",
       "      <td>57451</td>\n",
       "    </tr>\n",
       "    <tr>\n",
       "      <th>1</th>\n",
       "      <td>is</td>\n",
       "      <td>53806</td>\n",
       "    </tr>\n",
       "    <tr>\n",
       "      <th>2</th>\n",
       "      <td>good</td>\n",
       "      <td>46571</td>\n",
       "    </tr>\n",
       "    <tr>\n",
       "      <th>3</th>\n",
       "      <td>quality</td>\n",
       "      <td>42395</td>\n",
       "    </tr>\n",
       "    <tr>\n",
       "      <th>4</th>\n",
       "      <td>product</td>\n",
       "      <td>41825</td>\n",
       "    </tr>\n",
       "    <tr>\n",
       "      <th>5</th>\n",
       "      <td>very</td>\n",
       "      <td>35467</td>\n",
       "    </tr>\n",
       "    <tr>\n",
       "      <th>6</th>\n",
       "      <td>to</td>\n",
       "      <td>27108</td>\n",
       "    </tr>\n",
       "    <tr>\n",
       "      <th>7</th>\n",
       "      <td>The</td>\n",
       "      <td>26669</td>\n",
       "    </tr>\n",
       "    <tr>\n",
       "      <th>8</th>\n",
       "      <td>of</td>\n",
       "      <td>24773</td>\n",
       "    </tr>\n",
       "    <tr>\n",
       "      <th>9</th>\n",
       "      <td>delivery</td>\n",
       "      <td>23278</td>\n",
       "    </tr>\n",
       "    <tr>\n",
       "      <th>10</th>\n",
       "      <td>and</td>\n",
       "      <td>22900</td>\n",
       "    </tr>\n",
       "    <tr>\n",
       "      <th>11</th>\n",
       "      <td>Good</td>\n",
       "      <td>21037</td>\n",
       "    </tr>\n",
       "    <tr>\n",
       "      <th>12</th>\n",
       "      <td>not</td>\n",
       "      <td>20739</td>\n",
       "    </tr>\n",
       "    <tr>\n",
       "      <th>13</th>\n",
       "      <td>a</td>\n",
       "      <td>18829</td>\n",
       "    </tr>\n",
       "    <tr>\n",
       "      <th>14</th>\n",
       "      <td>price</td>\n",
       "      <td>18483</td>\n",
       "    </tr>\n",
       "  </tbody>\n",
       "</table>\n",
       "</div>"
      ],
      "text/plain": [
       "        Word  Count\n",
       "0        the  57451\n",
       "1         is  53806\n",
       "2       good  46571\n",
       "3    quality  42395\n",
       "4    product  41825\n",
       "5       very  35467\n",
       "6         to  27108\n",
       "7        The  26669\n",
       "8         of  24773\n",
       "9   delivery  23278\n",
       "10       and  22900\n",
       "11      Good  21037\n",
       "12       not  20739\n",
       "13         a  18829\n",
       "14     price  18483"
      ]
     },
     "execution_count": 16,
     "metadata": {
      "tags": []
     },
     "output_type": "execute_result"
    }
   ],
   "source": [
    "listcount = Counter(\" \".join(train[\"review\"]).split()).most_common(15)\n",
    "wordcount = pd.DataFrame(listcount, columns =['Word', 'Count']) \n",
    "wordcount"
   ]
  },
  {
   "cell_type": "markdown",
   "metadata": {
    "id": "7s0SAXPUBKKx"
   },
   "source": [
    "Frekuensi keseluruhan kata pada kolom review"
   ]
  },
  {
   "cell_type": "code",
   "execution_count": null,
   "metadata": {
    "id": "8qTCWhAZBKKx",
    "outputId": "de53f480-87e8-4a3c-ccac-93f2afe3cdee"
   },
   "outputs": [
    {
     "data": {
      "text/plain": [
       "<Figure size 1296x1296 with 0 Axes>"
      ]
     },
     "execution_count": 17,
     "metadata": {
      "tags": []
     },
     "output_type": "execute_result"
    },
    {
     "data": {
      "image/png": "[encoded data removed]",
      "text/plain": [
       "<Figure size 432x288 with 1 Axes>"
      ]
     },
     "metadata": {
      "tags": []
     },
     "output_type": "display_data"
    },
    {
     "data": {
      "text/plain": [
       "<Figure size 1296x1296 with 0 Axes>"
      ]
     },
     "metadata": {
      "tags": []
     },
     "output_type": "display_data"
    }
   ],
   "source": [
    "df = wordcount.plot(kind='barh', x = \"Word\", y = \"Count\")\n",
    "plt.figure(figsize = (18, 18), facecolor = None)"
   ]
  },
  {
   "cell_type": "markdown",
   "metadata": {
    "id": "J5rXtpqjBKKy"
   },
   "source": [
    "Frekuensi keseluruhan kata pada kolom review dalam bentuk bar chart"
   ]
  },
  {
   "cell_type": "markdown",
   "metadata": {
    "id": "UvXxcUDqBKKy"
   },
   "source": [
    "### Scatter Plot, ANOVA, dan Korelasi\n",
    "Dengan atribut yang dimiliki hanya 3, maka tidak bisa dilakukan scatter plotting, ANOVA, dan correlation"
   ]
  },
  {
   "cell_type": "markdown",
   "metadata": {
    "id": "MqMEw0KUBKKy"
   },
   "source": [
    "# BAGIAN 3: Data Preparation\n",
    "Kali ini akan dilakukan beberapa perubahan pada data, terutama kolom review yaitu:\n",
    "- menyeragamkan huruf menjadi non kapital. Hal ini dilakukan untuk mengurangi keberagaman kosa kata yang akan dipelajari oleh mesin. \n",
    "- menghapus angka. Hal ini dilakukan karena angka tidak dirasa memiliki sentimen tertentu.\n",
    "- menghapus tanda baca. Hal ini dilakukan karena tanda baca dirasa tidak memiliki sentimen tertentu.\n",
    "- menghapus spasi berlebih\n",
    "- Lemmatize. Lemmatize adalah proses pengelompokan bersama berbagai bentuk infleksi kata sehingga dapat dianalisis sebagai satu item. Lemmatisasi mirip dengan stemming tetapi membawa konteks pada kata-kata. Jadi itu menghubungkan kata-kata dengan arti yang mirip dengan satu kata. Sehingga mesin dapat memahami apa makna sebenarnya dari kata yang dimaksud oleh penulis.\n",
    "- menghapus stop words/kata yang sering muncul namun tidak memiliki arti pada sentimen"
   ]
  },
  {
   "cell_type": "markdown",
   "metadata": {
    "id": "C1XXqipPBKKy"
   },
   "source": [
    "### 1.Menyeragamkan huruf menjadi  non-kapital"
   ]
  },
  {
   "cell_type": "code",
   "execution_count": null,
   "metadata": {
    "id": "ron8o0RXBKKy"
   },
   "outputs": [],
   "source": [
    "#Membuat fungsi yang dapat menjadikan teks huruf kecil untuk mengurangi kosa kata dari data teks yang digunakan.\n",
    "def lowercase(text):\n",
    "   return text.lower()"
   ]
  },
  {
   "cell_type": "code",
   "execution_count": null,
   "metadata": {
    "id": "8ogsoC0yBKKy"
   },
   "outputs": [],
   "source": [
    "#Membuat lower case kolom review dari dataframe\n",
    "train_lower = train.copy()\n",
    "train_lower['review'] = train_lower['review'].apply(lambda x:lowercase(x))"
   ]
  },
  {
   "cell_type": "code",
   "execution_count": null,
   "metadata": {
    "id": "6jZB5lSqBKKy",
    "outputId": "849a43c3-b88b-4b2c-9060-3bab968eb2ab"
   },
   "outputs": [
    {
     "data": {
      "text/plain": [
       "0    ga disappointed neat products .. meletot hilsn...\n",
       "1      rdtanya replace broken glass, broken chargernya\n",
       "2    nyesel bngt dsni shopping antecedent photo mes...\n",
       "3        sent a light blue suit goods ga want a refund\n",
       "4    pendants came with dents and scratches on its ...\n",
       "Name: review, dtype: object"
      ]
     },
     "execution_count": 21,
     "metadata": {
      "tags": []
     },
     "output_type": "execute_result"
    }
   ],
   "source": [
    "train_lower.review.head(5)"
   ]
  },
  {
   "cell_type": "markdown",
   "metadata": {
    "id": "mqRLTzrGBKKy"
   },
   "source": [
    "Terlihat bahwa teks sekarang menjadi huruf kecil semua"
   ]
  },
  {
   "cell_type": "markdown",
   "metadata": {
    "id": "MnaKwmprBKKy"
   },
   "source": [
    "### 2. Menghapus angka"
   ]
  },
  {
   "cell_type": "code",
   "execution_count": null,
   "metadata": {
    "id": "ykOYDPv_BKKy"
   },
   "outputs": [],
   "source": [
    "#Membuat fungsi untuk menghapus angka\n",
    "def remove_numbers(text):\n",
    "  result=re.sub(r'\\d+', '', text)\n",
    "  return result"
   ]
  },
  {
   "cell_type": "code",
   "execution_count": null,
   "metadata": {
    "id": "TcizqfKiBKKy",
    "outputId": "5af2f554-e5b2-426c-f9ae-2ba41317a53d"
   },
   "outputs": [
    {
     "data": {
      "text/plain": [
       "'Saya mengambil  sks'"
      ]
     },
     "execution_count": 23,
     "metadata": {
      "tags": []
     },
     "output_type": "execute_result"
    }
   ],
   "source": [
    "#contoh\n",
    "remove_numbers('Saya mengambil 24 sks')"
   ]
  },
  {
   "cell_type": "code",
   "execution_count": null,
   "metadata": {
    "id": "7-1NId77BKKy",
    "outputId": "12a7d167-c167-41ae-f287-02a8c23bc1f1"
   },
   "outputs": [
    {
     "data": {
      "text/html": [
       "<div>\n",
       "<style scoped>\n",
       "    .dataframe tbody tr th:only-of-type {\n",
       "        vertical-align: middle;\n",
       "    }\n",
       "\n",
       "    .dataframe tbody tr th {\n",
       "        vertical-align: top;\n",
       "    }\n",
       "\n",
       "    .dataframe thead th {\n",
       "        text-align: right;\n",
       "    }\n",
       "</style>\n",
       "<table border=\"1\" class=\"dataframe\">\n",
       "  <thead>\n",
       "    <tr style=\"text-align: right;\">\n",
       "      <th></th>\n",
       "      <th>review_id</th>\n",
       "      <th>review</th>\n",
       "      <th>rating</th>\n",
       "    </tr>\n",
       "  </thead>\n",
       "  <tbody>\n",
       "    <tr>\n",
       "      <th>0</th>\n",
       "      <td>0</td>\n",
       "      <td>ga disappointed neat products .. meletot hilsn...</td>\n",
       "      <td>1</td>\n",
       "    </tr>\n",
       "    <tr>\n",
       "      <th>1</th>\n",
       "      <td>1</td>\n",
       "      <td>rdtanya replace broken glass, broken chargernya</td>\n",
       "      <td>1</td>\n",
       "    </tr>\n",
       "    <tr>\n",
       "      <th>2</th>\n",
       "      <td>2</td>\n",
       "      <td>nyesel bngt dsni shopping antecedent photo mes...</td>\n",
       "      <td>1</td>\n",
       "    </tr>\n",
       "    <tr>\n",
       "      <th>3</th>\n",
       "      <td>3</td>\n",
       "      <td>sent a light blue suit goods ga want a refund</td>\n",
       "      <td>1</td>\n",
       "    </tr>\n",
       "    <tr>\n",
       "      <th>4</th>\n",
       "      <td>4</td>\n",
       "      <td>pendants came with dents and scratches on its ...</td>\n",
       "      <td>1</td>\n",
       "    </tr>\n",
       "  </tbody>\n",
       "</table>\n",
       "</div>"
      ],
      "text/plain": [
       "   review_id                                             review  rating\n",
       "0          0  ga disappointed neat products .. meletot hilsn...       1\n",
       "1          1    rdtanya replace broken glass, broken chargernya       1\n",
       "2          2  nyesel bngt dsni shopping antecedent photo mes...       1\n",
       "3          3      sent a light blue suit goods ga want a refund       1\n",
       "4          4  pendants came with dents and scratches on its ...       1"
      ]
     },
     "execution_count": 24,
     "metadata": {
      "tags": []
     },
     "output_type": "execute_result"
    }
   ],
   "source": [
    "train_number = train_lower.copy()\n",
    "train_number['review'] = train_number['review'].apply(lambda x:remove_numbers(x))\n",
    "train_number.head()"
   ]
  },
  {
   "cell_type": "markdown",
   "metadata": {
    "id": "5nizwM6IBKKy"
   },
   "source": [
    "### 3. Menghilangkan tanda baca"
   ]
  },
  {
   "cell_type": "code",
   "execution_count": null,
   "metadata": {
    "id": "bHRezLdiBKKy"
   },
   "outputs": [],
   "source": [
    "#Membuat fungsi yang menghapus tanda baca\n",
    "def remove_punctuation(text):\n",
    "  translator = str.maketrans('','', string.punctuation) #tabel translasi\n",
    "  return text.translate(translator)"
   ]
  },
  {
   "cell_type": "code",
   "execution_count": null,
   "metadata": {
    "id": "0CB0TRiEBKKy",
    "outputId": "10851c76-94d4-4622-be70-808d2a07a089"
   },
   "outputs": [
    {
     "data": {
      "text/plain": [
       "'Ayo makan Budi'"
      ]
     },
     "execution_count": 26,
     "metadata": {
      "tags": []
     },
     "output_type": "execute_result"
    }
   ],
   "source": [
    "#Contoh\n",
    "remove_punctuation('Ayo makan, Budi!')"
   ]
  },
  {
   "cell_type": "code",
   "execution_count": null,
   "metadata": {
    "id": "rLFaLjX_BKKy",
    "outputId": "ec849060-a0b1-4190-a1df-734e4b04e40f"
   },
   "outputs": [
    {
     "data": {
      "text/html": [
       "<div>\n",
       "<style scoped>\n",
       "    .dataframe tbody tr th:only-of-type {\n",
       "        vertical-align: middle;\n",
       "    }\n",
       "\n",
       "    .dataframe tbody tr th {\n",
       "        vertical-align: top;\n",
       "    }\n",
       "\n",
       "    .dataframe thead th {\n",
       "        text-align: right;\n",
       "    }\n",
       "</style>\n",
       "<table border=\"1\" class=\"dataframe\">\n",
       "  <thead>\n",
       "    <tr style=\"text-align: right;\">\n",
       "      <th></th>\n",
       "      <th>review_id</th>\n",
       "      <th>review</th>\n",
       "      <th>rating</th>\n",
       "    </tr>\n",
       "  </thead>\n",
       "  <tbody>\n",
       "    <tr>\n",
       "      <th>0</th>\n",
       "      <td>0</td>\n",
       "      <td>ga disappointed neat products  meletot hilsnya...</td>\n",
       "      <td>1</td>\n",
       "    </tr>\n",
       "    <tr>\n",
       "      <th>1</th>\n",
       "      <td>1</td>\n",
       "      <td>rdtanya replace broken glass broken chargernya</td>\n",
       "      <td>1</td>\n",
       "    </tr>\n",
       "    <tr>\n",
       "      <th>2</th>\n",
       "      <td>2</td>\n",
       "      <td>nyesel bngt dsni shopping antecedent photo mes...</td>\n",
       "      <td>1</td>\n",
       "    </tr>\n",
       "    <tr>\n",
       "      <th>3</th>\n",
       "      <td>3</td>\n",
       "      <td>sent a light blue suit goods ga want a refund</td>\n",
       "      <td>1</td>\n",
       "    </tr>\n",
       "    <tr>\n",
       "      <th>4</th>\n",
       "      <td>4</td>\n",
       "      <td>pendants came with dents and scratches on its ...</td>\n",
       "      <td>1</td>\n",
       "    </tr>\n",
       "  </tbody>\n",
       "</table>\n",
       "</div>"
      ],
      "text/plain": [
       "   review_id                                             review  rating\n",
       "0          0  ga disappointed neat products  meletot hilsnya...       1\n",
       "1          1     rdtanya replace broken glass broken chargernya       1\n",
       "2          2  nyesel bngt dsni shopping antecedent photo mes...       1\n",
       "3          3      sent a light blue suit goods ga want a refund       1\n",
       "4          4  pendants came with dents and scratches on its ...       1"
      ]
     },
     "execution_count": 27,
     "metadata": {
      "tags": []
     },
     "output_type": "execute_result"
    }
   ],
   "source": [
    "train_punct = train_number.copy()\n",
    "train_punct['review'] = train_punct['review'].apply(lambda x:remove_punctuation(x))\n",
    "train_punct.head()"
   ]
  },
  {
   "cell_type": "markdown",
   "metadata": {
    "id": "ZZoMnwfNBKKy"
   },
   "source": [
    "### 4. Menghapus spasi berlebih"
   ]
  },
  {
   "cell_type": "code",
   "execution_count": null,
   "metadata": {
    "id": "Qru1BRExBKKy"
   },
   "outputs": [],
   "source": [
    "#Membuat fungsi untuk menghapus spasi berlebih\n",
    "def remove_whitespace(text):\n",
    "  return \" \".join(text.split())"
   ]
  },
  {
   "cell_type": "code",
   "execution_count": null,
   "metadata": {
    "id": "Y_qtgpk4BKKy",
    "outputId": "002e8647-f513-4f56-9858-b88bb82281ce"
   },
   "outputs": [
    {
     "data": {
      "text/plain": [
       "'Saya suka makan nasi goreng'"
      ]
     },
     "execution_count": 29,
     "metadata": {
      "tags": []
     },
     "output_type": "execute_result"
    }
   ],
   "source": [
    "#contoh\n",
    "remove_whitespace('Saya suka   makan nasi goreng')"
   ]
  },
  {
   "cell_type": "code",
   "execution_count": null,
   "metadata": {
    "id": "qbcQhLqUBKKy",
    "outputId": "9032b480-8f3c-4e35-c6fc-8783264921da"
   },
   "outputs": [
    {
     "data": {
      "text/html": [
       "<div>\n",
       "<style scoped>\n",
       "    .dataframe tbody tr th:only-of-type {\n",
       "        vertical-align: middle;\n",
       "    }\n",
       "\n",
       "    .dataframe tbody tr th {\n",
       "        vertical-align: top;\n",
       "    }\n",
       "\n",
       "    .dataframe thead th {\n",
       "        text-align: right;\n",
       "    }\n",
       "</style>\n",
       "<table border=\"1\" class=\"dataframe\">\n",
       "  <thead>\n",
       "    <tr style=\"text-align: right;\">\n",
       "      <th></th>\n",
       "      <th>review_id</th>\n",
       "      <th>review</th>\n",
       "      <th>rating</th>\n",
       "    </tr>\n",
       "  </thead>\n",
       "  <tbody>\n",
       "    <tr>\n",
       "      <th>0</th>\n",
       "      <td>0</td>\n",
       "      <td>ga disappointed neat products meletot hilsnyaa...</td>\n",
       "      <td>1</td>\n",
       "    </tr>\n",
       "    <tr>\n",
       "      <th>1</th>\n",
       "      <td>1</td>\n",
       "      <td>rdtanya replace broken glass broken chargernya</td>\n",
       "      <td>1</td>\n",
       "    </tr>\n",
       "    <tr>\n",
       "      <th>2</th>\n",
       "      <td>2</td>\n",
       "      <td>nyesel bngt dsni shopping antecedent photo mes...</td>\n",
       "      <td>1</td>\n",
       "    </tr>\n",
       "    <tr>\n",
       "      <th>3</th>\n",
       "      <td>3</td>\n",
       "      <td>sent a light blue suit goods ga want a refund</td>\n",
       "      <td>1</td>\n",
       "    </tr>\n",
       "    <tr>\n",
       "      <th>4</th>\n",
       "      <td>4</td>\n",
       "      <td>pendants came with dents and scratches on its ...</td>\n",
       "      <td>1</td>\n",
       "    </tr>\n",
       "  </tbody>\n",
       "</table>\n",
       "</div>"
      ],
      "text/plain": [
       "   review_id                                             review  rating\n",
       "0          0  ga disappointed neat products meletot hilsnyaa...       1\n",
       "1          1     rdtanya replace broken glass broken chargernya       1\n",
       "2          2  nyesel bngt dsni shopping antecedent photo mes...       1\n",
       "3          3      sent a light blue suit goods ga want a refund       1\n",
       "4          4  pendants came with dents and scratches on its ...       1"
      ]
     },
     "execution_count": 30,
     "metadata": {
      "tags": []
     },
     "output_type": "execute_result"
    }
   ],
   "source": [
    "train_space = train_punct.copy()\n",
    "train_space['review'] = train_space['review'].apply(lambda x:remove_whitespace(x))\n",
    "train_space.head()"
   ]
  },
  {
   "cell_type": "markdown",
   "metadata": {
    "id": "jNpQbJeMBKKy"
   },
   "source": [
    "### 5. Lemmatize"
   ]
  },
  {
   "cell_type": "code",
   "execution_count": null,
   "metadata": {
    "id": "GdoLU2QRBKKy"
   },
   "outputs": [],
   "source": [
    "#Membuat lemmetizer instance\n",
    "lemmatizer = WordNetLemmatizer()\n",
    "\n",
    "#Mengubah nltk tag menjadi fungsi tag wordnet\n",
    "def nltk_tag_to_wordnet_tag(nltk_tag):\n",
    "    if nltk_tag.startswith('J'):\n",
    "        return wordnet.ADJ\n",
    "    elif nltk_tag.startswith('V'):\n",
    "        return wordnet.VERB\n",
    "    elif nltk_tag.startswith('N'):\n",
    "        return wordnet.NOUN\n",
    "    elif nltk_tag.startswith('R'):\n",
    "        return wordnet.ADV\n",
    "    else:          \n",
    "        return None\n",
    "\n",
    "#Membuat fungsi lemmatize\n",
    "def lemmatize(sentence):\n",
    "    #Tokenize the sentence and find the POS tag for each token\n",
    "    nltk_tagged = nltk.pos_tag(nltk.word_tokenize(sentence))  \n",
    "    # Tuple of (token, wordnet_tag)\n",
    "    wordnet_tagged = map(lambda x: (x[0], nltk_tag_to_wordnet_tag(x[1])), nltk_tagged)\n",
    "    lemmatized_sentence = []\n",
    "    for word, tag in wordnet_tagged:\n",
    "        if tag is None:\n",
    "            #if there is no available tag, append the token as is\n",
    "            lemmatized_sentence.append(word)\n",
    "        else:        \n",
    "            #else use the tag to lemmatize the token\n",
    "            lemmatized_sentence.append(lemmatizer.lemmatize(word, tag))\n",
    "    return \" \".join(lemmatized_sentence)"
   ]
  },
  {
   "cell_type": "code",
   "execution_count": null,
   "metadata": {
    "id": "ORpjRtehBKKz",
    "outputId": "d43fa179-ece5-4b4a-b277-b64cac818e91"
   },
   "outputs": [
    {
     "data": {
      "text/plain": [
       "'I be love the product'"
      ]
     },
     "execution_count": 32,
     "metadata": {
      "tags": []
     },
     "output_type": "execute_result"
    }
   ],
   "source": [
    "#Contoh\n",
    "lemmatize(\"I am loving the product\")"
   ]
  },
  {
   "cell_type": "code",
   "execution_count": null,
   "metadata": {
    "id": "CG6MjOM0BKKz",
    "outputId": "a4a72708-96ba-4dd0-f8d8-f6a89cc206b1"
   },
   "outputs": [
    {
     "data": {
      "text/html": [
       "<div>\n",
       "<style scoped>\n",
       "    .dataframe tbody tr th:only-of-type {\n",
       "        vertical-align: middle;\n",
       "    }\n",
       "\n",
       "    .dataframe tbody tr th {\n",
       "        vertical-align: top;\n",
       "    }\n",
       "\n",
       "    .dataframe thead th {\n",
       "        text-align: right;\n",
       "    }\n",
       "</style>\n",
       "<table border=\"1\" class=\"dataframe\">\n",
       "  <thead>\n",
       "    <tr style=\"text-align: right;\">\n",
       "      <th></th>\n",
       "      <th>review_id</th>\n",
       "      <th>review</th>\n",
       "      <th>rating</th>\n",
       "    </tr>\n",
       "  </thead>\n",
       "  <tbody>\n",
       "    <tr>\n",
       "      <th>0</th>\n",
       "      <td>0</td>\n",
       "      <td>ga disappoint neat product meletot hilsnyaa sp...</td>\n",
       "      <td>1</td>\n",
       "    </tr>\n",
       "    <tr>\n",
       "      <th>1</th>\n",
       "      <td>1</td>\n",
       "      <td>rdtanya replace broken glass break chargernya</td>\n",
       "      <td>1</td>\n",
       "    </tr>\n",
       "    <tr>\n",
       "      <th>2</th>\n",
       "      <td>2</td>\n",
       "      <td>nyesel bngt dsni shopping antecedent photo mes...</td>\n",
       "      <td>1</td>\n",
       "    </tr>\n",
       "    <tr>\n",
       "      <th>3</th>\n",
       "      <td>3</td>\n",
       "      <td>send a light blue suit good ga want a refund</td>\n",
       "      <td>1</td>\n",
       "    </tr>\n",
       "    <tr>\n",
       "      <th>4</th>\n",
       "      <td>4</td>\n",
       "      <td>pendant come with dent and scratch on its surf...</td>\n",
       "      <td>1</td>\n",
       "    </tr>\n",
       "  </tbody>\n",
       "</table>\n",
       "</div>"
      ],
      "text/plain": [
       "   review_id                                             review  rating\n",
       "0          0  ga disappoint neat product meletot hilsnyaa sp...       1\n",
       "1          1      rdtanya replace broken glass break chargernya       1\n",
       "2          2  nyesel bngt dsni shopping antecedent photo mes...       1\n",
       "3          3       send a light blue suit good ga want a refund       1\n",
       "4          4  pendant come with dent and scratch on its surf...       1"
      ]
     },
     "execution_count": 33,
     "metadata": {
      "tags": []
     },
     "output_type": "execute_result"
    }
   ],
   "source": [
    "train_clean = train_space.copy()\n",
    "train_clean['review'] = train_clean['review'].apply(lambda x: lemmatize(x))\n",
    "train_clean.head()"
   ]
  },
  {
   "cell_type": "code",
   "execution_count": null,
   "metadata": {
    "id": "O0z47-QcBKKz"
   },
   "outputs": [],
   "source": [
    "### 6. Mengubah emoji menjadi frasa"
   ]
  },
  {
   "cell_type": "markdown",
   "metadata": {
    "id": "GUIRObOABKKz"
   },
   "source": [
    "'''\n",
    "Convert emoji to text so that it’s being helpful to preserve information from the review sentence\n",
    "import re\n",
    "\n",
    "with open('Emoji_Dict.p', 'rb') as fp:\n",
    "    Emoji_Dict = pickle.load(fp)\n",
    "Emoji_Dict = {v: k for k, v in Emoji_Dict.items()}\n",
    "\n",
    "def convert_emojis(text):\n",
    "    for emot in Emoji_Dict:\n",
    "        text = re.sub(r'('+emot+')', \"_\".join(Emoji_Dict[emot].replace(\",\",\"\").replace(\":\",\"\").split()), text)\n",
    "    return text\n",
    "\n",
    "convert_emojis('I won 🥇 in 🏏')\n",
    "\n",
    "train_emoji = train_clean.copy()\n",
    "train_emoji['review'] = train_emoji['review'].apply(lambda x: convert_emojis(x))\n",
    "train_emoji.head()\n",
    "'''"
   ]
  },
  {
   "cell_type": "markdown",
   "metadata": {
    "id": "X-bYuyY2BKKz"
   },
   "source": [
    "### 6. Menghapus stop words dan tokenisasi kalimat"
   ]
  },
  {
   "cell_type": "code",
   "execution_count": null,
   "metadata": {
    "id": "86-dxbjiBKKz"
   },
   "outputs": [],
   "source": [
    "#membuat fungsi yang menghapus stop words \n",
    "def token_nonstop(text):\n",
    "  stop_words = set(stopwords.words(\"english\"))\n",
    "  word_tokens = word_tokenize(text)\n",
    "  filtered_text = [word for word in word_tokens if word not in stop_words]\n",
    "  return filtered_text"
   ]
  },
  {
   "cell_type": "code",
   "execution_count": null,
   "metadata": {
    "id": "11tfwke9BKKz",
    "outputId": "8994c3e5-cebf-4641-f15c-f78a93e0ff2c"
   },
   "outputs": [
    {
     "data": {
      "text/plain": [
       "['I',\n",
       " 'want',\n",
       " 'buy',\n",
       " 'green',\n",
       " 'blue',\n",
       " 'shirt',\n",
       " ',',\n",
       " 'I',\n",
       " 'want',\n",
       " 'wash',\n",
       " 'iron',\n",
       " 'wash',\n",
       " 'iron']"
      ]
     },
     "execution_count": 37,
     "metadata": {
      "tags": []
     },
     "output_type": "execute_result"
    }
   ],
   "source": [
    "#Contoh\n",
    "token_nonstop('I want to buy green and blue shirt, then I want to wash and iron and wash again and iron again them')"
   ]
  },
  {
   "cell_type": "code",
   "execution_count": null,
   "metadata": {
    "id": "H3jdtp6rBKKz"
   },
   "outputs": [],
   "source": [
    "train_cleaned = train_clean.copy()\n",
    "train_cleaned['review'] = train_cleaned['review'].apply(lambda x : token_nonstop(x))\n",
    "train_cleaned.head(10)"
   ]
  },
  {
   "cell_type": "code",
   "execution_count": null,
   "metadata": {
    "id": "qZgnGzh4BKKz"
   },
   "outputs": [],
   "source": [
    "train_cleaned.to_csv('train_clean.csv')"
   ]
  },
  {
   "cell_type": "code",
   "execution_count": null,
   "metadata": {
    "colab": {
     "base_uri": "https://localhost:8080/"
    },
    "id": "yGqmFB7zFnds",
    "outputId": "44966ca9-c392-41c1-f166-4ce4e6d47283"
   },
   "outputs": [
    {
     "name": "stdout",
     "output_type": "stream",
     "text": [
      "[nltk_data] Downloading package punkt to /root/nltk_data...\n",
      "[nltk_data]   Unzipping tokenizers/punkt.zip.\n"
     ]
    },
    {
     "data": {
      "text/plain": [
       "True"
      ]
     },
     "execution_count": 4,
     "metadata": {
      "tags": []
     },
     "output_type": "execute_result"
    }
   ],
   "source": [
    "nltk.download(\"punkt\")"
   ]
  },
  {
   "cell_type": "markdown",
   "metadata": {
    "id": "JI8jYeqm8oWN"
   },
   "source": [
    "# BAGIAN 4: Modelling"
   ]
  },
  {
   "cell_type": "markdown",
   "metadata": {
    "id": "GvJT4qKoYDnX"
   },
   "source": [
    "### Open file"
   ]
  },
  {
   "cell_type": "code",
   "execution_count": 53,
   "metadata": {
    "colab": {
     "base_uri": "https://localhost:8080/",
     "height": 204
    },
    "id": "ccNpq5hHBKKz",
    "outputId": "dc3aae3a-34dd-4741-a701-f183c4c28a46"
   },
   "outputs": [
    {
     "data": {
      "text/html": [
       "<div>\n",
       "<style scoped>\n",
       "    .dataframe tbody tr th:only-of-type {\n",
       "        vertical-align: middle;\n",
       "    }\n",
       "\n",
       "    .dataframe tbody tr th {\n",
       "        vertical-align: top;\n",
       "    }\n",
       "\n",
       "    .dataframe thead th {\n",
       "        text-align: right;\n",
       "    }\n",
       "</style>\n",
       "<table border=\"1\" class=\"dataframe\">\n",
       "  <thead>\n",
       "    <tr style=\"text-align: right;\">\n",
       "      <th></th>\n",
       "      <th>review_id</th>\n",
       "      <th>review</th>\n",
       "      <th>rating</th>\n",
       "    </tr>\n",
       "  </thead>\n",
       "  <tbody>\n",
       "    <tr>\n",
       "      <th>0</th>\n",
       "      <td>0</td>\n",
       "      <td>['ga', 'disappoint', 'neat', 'product', 'melet...</td>\n",
       "      <td>1</td>\n",
       "    </tr>\n",
       "    <tr>\n",
       "      <th>1</th>\n",
       "      <td>1</td>\n",
       "      <td>['rdtanya', 'replace', 'broken', 'glass', 'bre...</td>\n",
       "      <td>1</td>\n",
       "    </tr>\n",
       "    <tr>\n",
       "      <th>2</th>\n",
       "      <td>2</td>\n",
       "      <td>['nyesel', 'bngt', 'dsni', 'shopping', 'antece...</td>\n",
       "      <td>1</td>\n",
       "    </tr>\n",
       "    <tr>\n",
       "      <th>3</th>\n",
       "      <td>3</td>\n",
       "      <td>['send', 'light', 'blue', 'suit', 'good', 'ga'...</td>\n",
       "      <td>1</td>\n",
       "    </tr>\n",
       "    <tr>\n",
       "      <th>4</th>\n",
       "      <td>4</td>\n",
       "      <td>['pendant', 'come', 'dent', 'scratch', 'surfac...</td>\n",
       "      <td>1</td>\n",
       "    </tr>\n",
       "  </tbody>\n",
       "</table>\n",
       "</div>"
      ],
      "text/plain": [
       "   review_id                                             review  rating\n",
       "0          0  ['ga', 'disappoint', 'neat', 'product', 'melet...       1\n",
       "1          1  ['rdtanya', 'replace', 'broken', 'glass', 'bre...       1\n",
       "2          2  ['nyesel', 'bngt', 'dsni', 'shopping', 'antece...       1\n",
       "3          3  ['send', 'light', 'blue', 'suit', 'good', 'ga'...       1\n",
       "4          4  ['pendant', 'come', 'dent', 'scratch', 'surfac...       1"
      ]
     },
     "execution_count": 53,
     "metadata": {
      "tags": []
     },
     "output_type": "execute_result"
    }
   ],
   "source": [
    "train = pd.read_csv('/content/drive/MyDrive/Colab Notebooks/train_clean.csv')\n",
    "train = train.drop(['Unnamed: 0'], axis=1)\n",
    "train.head()"
   ]
  },
  {
   "cell_type": "code",
   "execution_count": 7,
   "metadata": {
    "id": "JFUM1GRejHVt"
   },
   "outputs": [],
   "source": [
    "train1 = train.copy()"
   ]
  },
  {
   "cell_type": "code",
   "execution_count": 54,
   "metadata": {
    "id": "AZLLbzvzqJg1"
   },
   "outputs": [],
   "source": [
    "df1 = train1[train1['rating']==1].iloc[:5000]\r\n",
    "df2 = train1[train1['rating']==2].iloc[:5000]\r\n",
    "df3 = train1[train1['rating']==3].iloc[:5000]\r\n",
    "df4 = train1[train1['rating']==4].iloc[:5000]\r\n",
    "df5 = train1[train1['rating']==5].iloc[:5000]\r\n",
    "train2 = pd.concat([df1, df2, df3, df4, df5])"
   ]
  },
  {
   "cell_type": "code",
   "execution_count": 55,
   "metadata": {
    "colab": {
     "base_uri": "https://localhost:8080/",
     "height": 436
    },
    "id": "JXukwiprkIyW",
    "outputId": "ecbd23e9-0d8c-40a2-e933-40f923f7239a"
   },
   "outputs": [
    {
     "data": {
      "text/html": [
       "<div>\n",
       "<style scoped>\n",
       "    .dataframe tbody tr th:only-of-type {\n",
       "        vertical-align: middle;\n",
       "    }\n",
       "\n",
       "    .dataframe tbody tr th {\n",
       "        vertical-align: top;\n",
       "    }\n",
       "\n",
       "    .dataframe thead th {\n",
       "        text-align: right;\n",
       "    }\n",
       "</style>\n",
       "<table border=\"1\" class=\"dataframe\">\n",
       "  <thead>\n",
       "    <tr style=\"text-align: right;\">\n",
       "      <th></th>\n",
       "      <th>review_id</th>\n",
       "      <th>review</th>\n",
       "      <th>rating</th>\n",
       "    </tr>\n",
       "  </thead>\n",
       "  <tbody>\n",
       "    <tr>\n",
       "      <th>0</th>\n",
       "      <td>0</td>\n",
       "      <td>['ga', 'disappoint', 'neat', 'product', 'melet...</td>\n",
       "      <td>1</td>\n",
       "    </tr>\n",
       "    <tr>\n",
       "      <th>1</th>\n",
       "      <td>1</td>\n",
       "      <td>['rdtanya', 'replace', 'broken', 'glass', 'bre...</td>\n",
       "      <td>1</td>\n",
       "    </tr>\n",
       "    <tr>\n",
       "      <th>2</th>\n",
       "      <td>2</td>\n",
       "      <td>['nyesel', 'bngt', 'dsni', 'shopping', 'antece...</td>\n",
       "      <td>1</td>\n",
       "    </tr>\n",
       "    <tr>\n",
       "      <th>3</th>\n",
       "      <td>3</td>\n",
       "      <td>['send', 'light', 'blue', 'suit', 'good', 'ga'...</td>\n",
       "      <td>1</td>\n",
       "    </tr>\n",
       "    <tr>\n",
       "      <th>4</th>\n",
       "      <td>4</td>\n",
       "      <td>['pendant', 'come', 'dent', 'scratch', 'surfac...</td>\n",
       "      <td>1</td>\n",
       "    </tr>\n",
       "    <tr>\n",
       "      <th>...</th>\n",
       "      <td>...</td>\n",
       "      <td>...</td>\n",
       "      <td>...</td>\n",
       "    </tr>\n",
       "    <tr>\n",
       "      <th>110291</th>\n",
       "      <td>110291</td>\n",
       "      <td>['✨🌺🌺✨🌺🌺✨', '🌺🌺🌺🌺🌺🌺🌺', '🌺🌺🌺🌺🌺🌺🌺', '✨🌺🌺🌺🌺🌺✨', '...</td>\n",
       "      <td>5</td>\n",
       "    </tr>\n",
       "    <tr>\n",
       "      <th>110292</th>\n",
       "      <td>110292</td>\n",
       "      <td>['good', 'product', 'quality', 'excellent', 's...</td>\n",
       "      <td>5</td>\n",
       "    </tr>\n",
       "    <tr>\n",
       "      <th>110293</th>\n",
       "      <td>110293</td>\n",
       "      <td>['👍👍👍😊tq', 'much']</td>\n",
       "      <td>5</td>\n",
       "    </tr>\n",
       "    <tr>\n",
       "      <th>110294</th>\n",
       "      <td>110294</td>\n",
       "      <td>['fast', 'good', 'arrive', 'like', 'barangnya'...</td>\n",
       "      <td>5</td>\n",
       "    </tr>\n",
       "    <tr>\n",
       "      <th>110295</th>\n",
       "      <td>110295</td>\n",
       "      <td>['ceaaa', 'already', 'submit', 'white', 'cloth...</td>\n",
       "      <td>5</td>\n",
       "    </tr>\n",
       "  </tbody>\n",
       "</table>\n",
       "<p>25000 rows × 3 columns</p>\n",
       "</div>"
      ],
      "text/plain": [
       "        review_id                                             review  rating\n",
       "0               0  ['ga', 'disappoint', 'neat', 'product', 'melet...       1\n",
       "1               1  ['rdtanya', 'replace', 'broken', 'glass', 'bre...       1\n",
       "2               2  ['nyesel', 'bngt', 'dsni', 'shopping', 'antece...       1\n",
       "3               3  ['send', 'light', 'blue', 'suit', 'good', 'ga'...       1\n",
       "4               4  ['pendant', 'come', 'dent', 'scratch', 'surfac...       1\n",
       "...           ...                                                ...     ...\n",
       "110291     110291  ['✨🌺🌺✨🌺🌺✨', '🌺🌺🌺🌺🌺🌺🌺', '🌺🌺🌺🌺🌺🌺🌺', '✨🌺🌺🌺🌺🌺✨', '...       5\n",
       "110292     110292  ['good', 'product', 'quality', 'excellent', 's...       5\n",
       "110293     110293                                 ['👍👍👍😊tq', 'much']       5\n",
       "110294     110294  ['fast', 'good', 'arrive', 'like', 'barangnya'...       5\n",
       "110295     110295  ['ceaaa', 'already', 'submit', 'white', 'cloth...       5\n",
       "\n",
       "[25000 rows x 3 columns]"
      ]
     },
     "execution_count": 55,
     "metadata": {
      "tags": []
     },
     "output_type": "execute_result"
    }
   ],
   "source": [
    "train2"
   ]
  },
  {
   "cell_type": "markdown",
   "metadata": {
    "id": "WtQzit7mXYXV"
   },
   "source": [
    "### Data Splitting"
   ]
  },
  {
   "cell_type": "code",
   "execution_count": 60,
   "metadata": {
    "id": "JtEOm2uaxfEx"
   },
   "outputs": [],
   "source": [
    "from sklearn.model_selection import train_test_split\n",
    "\n",
    "## split data into training, validation, and test data (features and labels, x and y)\n",
    "train_x, test_x, train_y, test_y = train_test_split(train2['review'], train2['rating'], test_size=0.3, random_state=3)"
   ]
  },
  {
   "cell_type": "code",
   "execution_count": 61,
   "metadata": {
    "colab": {
     "base_uri": "https://localhost:8080/"
    },
    "id": "INRIcAR2yDPM",
    "outputId": "4349d042-1eda-4241-8bca-4c7db597b11d"
   },
   "outputs": [
    {
     "name": "stdout",
     "output_type": "stream",
     "text": [
      "\t\t\tFeature Shapes:\n",
      "Train set: \t\t(17500,) 1 \n",
      "Test set: \t\t(7500,) 1\n"
     ]
    }
   ],
   "source": [
    "## print out the shapes of your resultant feature data\n",
    "print(\"\\t\\t\\tFeature Shapes:\")\n",
    "print(\"Train set: \\t\\t{}\".format(train_x.shape),1,\n",
    "      \"\\nTest set: \\t\\t{}\".format(test_x.shape),1)"
   ]
  },
  {
   "cell_type": "code",
   "execution_count": 62,
   "metadata": {
    "colab": {
     "base_uri": "https://localhost:8080/"
    },
    "id": "yAryXFZnydra",
    "outputId": "6de0d7d4-89d9-49ce-a24c-c9288e402d1e"
   },
   "outputs": [
    {
     "data": {
      "text/plain": [
       "31219     ['yesterday', 'receive', 'good', 'try', 'left'...\n",
       "107841    ['alhamdulillah', 'nyampe', 'package', 'fast',...\n",
       "105867    ['pretty', 'good', 'wait', 'little', 'bit', 'l...\n",
       "32011     ['thanks', 'kak', 'sampeee', 'good', 'safe', '...\n",
       "106384                       ['thanks', 'maam', 'freebie😊']\n",
       "                                ...                        \n",
       "16185     ['good', 'ship', 'without', 'pack', 'bubble', ...\n",
       "63719     ['excellent', 'quality', 'accommodate', 'seller']\n",
       "29003     ['good', 'product', 'quality', 'good', 'delive...\n",
       "1688      ['order', 'size', 'black', 'ash', 'ehh', 'ehh'...\n",
       "15779                                     ['quite', 'bent']\n",
       "Name: review, Length: 17500, dtype: object"
      ]
     },
     "execution_count": 62,
     "metadata": {
      "tags": []
     },
     "output_type": "execute_result"
    }
   ],
   "source": [
    "train_x"
   ]
  },
  {
   "cell_type": "code",
   "execution_count": 63,
   "metadata": {
    "colab": {
     "base_uri": "https://localhost:8080/"
    },
    "id": "GDKnkBtytBtB",
    "outputId": "e4b4a03f-f5b0-4af8-87cb-1959be9f7448"
   },
   "outputs": [
    {
     "data": {
      "text/plain": [
       "29248     ['bagussssssssssssssssssssssssssssssssss', 'ok...\n",
       "19127     ['product', 'quality', 'standard', 'reapon', '...\n",
       "30735     ['quality', 'product', 'good', 'value', 'money...\n",
       "28138     ['thanks', 'kak', 'may', 'always', 'trustworthy']\n",
       "64217     ['good', 'product', 'quality', 'delivery', 'fa...\n",
       "                                ...                        \n",
       "107559                        ['quality', 'worth', 'price']\n",
       "1747      ['lack', 'good', 'exchange', 'shop', 'dc', 'f'...\n",
       "68166     ['shop', 'careful', 'packaging', 'product', 's...\n",
       "106352    ['expect', 'item', 'excellent', 'product', 'we...\n",
       "14802     ['thanks', 'free', 'gift', 'although', 'qualit...\n",
       "Name: review, Length: 7500, dtype: object"
      ]
     },
     "execution_count": 63,
     "metadata": {
      "tags": []
     },
     "output_type": "execute_result"
    }
   ],
   "source": [
    "test_x"
   ]
  },
  {
   "cell_type": "markdown",
   "metadata": {
    "id": "0yITcsq383vP"
   },
   "source": [
    "#### Mengubah kumpulan kata di kolom review"
   ]
  },
  {
   "cell_type": "code",
   "execution_count": 64,
   "metadata": {
    "id": "QM8kbnjMLE0A"
   },
   "outputs": [],
   "source": [
    "data = []\n",
    "for review in train_x:\n",
    "  review = review.replace('[','')\n",
    "  review = review.replace(']','')\n",
    "  review = review.replace(',','')\n",
    "  review = review.replace(\"'\",'')\n",
    "  for r in review:\n",
    "    arr = review.split(' ')\n",
    "  data.append(arr)"
   ]
  },
  {
   "cell_type": "code",
   "execution_count": 65,
   "metadata": {
    "id": "esbONwlusQIT"
   },
   "outputs": [],
   "source": [
    "data2 = []\r\n",
    "for review in test_x:\r\n",
    "  review = review.replace('[','')\r\n",
    "  review = review.replace(']','')\r\n",
    "  review = review.replace(',','')\r\n",
    "  review = review.replace(\"'\",'')\r\n",
    "  for r in review:\r\n",
    "    arr = review.split(' ')\r\n",
    "  data2.append(arr)"
   ]
  },
  {
   "cell_type": "code",
   "execution_count": 68,
   "metadata": {
    "id": "y2dPbGN_zcFm"
   },
   "outputs": [],
   "source": [
    "text = []\n",
    "for i in data:\n",
    "  text.append(\" \".join(i))"
   ]
  },
  {
   "cell_type": "code",
   "execution_count": 70,
   "metadata": {
    "id": "GrkSbEFMsXWu"
   },
   "outputs": [],
   "source": [
    "test_X = []\r\n",
    "for i in data2:\r\n",
    "  test_X.append(\" \".join(i))"
   ]
  },
  {
   "cell_type": "markdown",
   "metadata": {
    "id": "I4x8X4wJ-B9e"
   },
   "source": [
    "### Word2Vec\n",
    "Word2Vec: Method to represent text to generate Word Embeddings which map all the words present in a language into a vector space of a given dimension. We can perform mathematical operations on these vectors which help preserve the relationship between the words."
   ]
  },
  {
   "cell_type": "code",
   "execution_count": 72,
   "metadata": {
    "id": "9O0eklfzBKKz"
   },
   "outputs": [],
   "source": [
    "# Initializing the train model\n",
    "from gensim.models import word2vec\n",
    "num_features = 250 #400\n",
    "min_count = 40\n",
    "num_processor = 4\n",
    "context = 10\n",
    "downsampling = 0.001\n",
    "\n",
    "model1 =    gensim.models.Word2Vec(data, workers = num_processor, \n",
    "                         size = num_features, min_count = min_count,\n",
    "                         window = context, sample = downsampling) \n"
   ]
  },
  {
   "cell_type": "markdown",
   "metadata": {
    "id": "t84wOYEO-HkR"
   },
   "source": [
    "#### Combine all the word2vec vector values of each word in each review"
   ]
  },
  {
   "cell_type": "code",
   "execution_count": 73,
   "metadata": {
    "id": "rfVAPn6cNIZS"
   },
   "outputs": [],
   "source": [
    "def makeFeatureVec(review, model, num_features):\n",
    "    \n",
    "    featureVec = np.zeros((num_features,), dtype = \"float32\")\n",
    "    \n",
    "    # Unique word set\n",
    "    word_index = set(model.wv.index2word)\n",
    "    \n",
    "    # Count the number of words\n",
    "    nword = 0\n",
    "    \n",
    "    # Iterate words in a review and if the word is in the unique wordset, add the vector values for each word.\n",
    "    for word in review:\n",
    "        if word in word_index:\n",
    "            nword += 1\n",
    "            featureVec = np.add(featureVec, model[word])\n",
    "    \n",
    "    # Divide the sum of vector values by total number of word in a review.\n",
    "    featureVec = np.divide(featureVec, nword)        \n",
    "    \n",
    "    return featureVec"
   ]
  },
  {
   "cell_type": "code",
   "execution_count": 74,
   "metadata": {
    "id": "ai_obxPFPO9U"
   },
   "outputs": [],
   "source": [
    "def getAvgFeatureVec(clean_reviews, model, num_features):\n",
    "    \n",
    "    # Keep track of the sequence of reviews, create the number \"th\" variable.\n",
    "    review_th = 0\n",
    "    \n",
    "    # Row: number of total reviews, Column: number of vector spaces (num_features = 250 we set this in Word2Vec step).\n",
    "    reviewFeatureVecs = np.zeros((len(clean_reviews), num_features), dtype = \"float32\")\n",
    "    \n",
    "    # Iterate over reviews and add the result of makeFeatureVec.\n",
    "    for review in clean_reviews:\n",
    "        reviewFeatureVecs[int(review_th)] = makeFeatureVec(review, model, num_features)\n",
    "        \n",
    "        # Once the vector values are added, increase the one for the review_th variable.\n",
    "        review_th += 1\n",
    "    \n",
    "    return reviewFeatureVecs"
   ]
  },
  {
   "cell_type": "code",
   "execution_count": 75,
   "metadata": {
    "colab": {
     "base_uri": "https://localhost:8080/"
    },
    "id": "5qHPywhqPSKy",
    "outputId": "6816d3ba-0dc2-42da-dc96-3a7175107ceb"
   },
   "outputs": [
    {
     "name": "stderr",
     "output_type": "stream",
     "text": [
      "/usr/local/lib/python3.6/dist-packages/ipykernel_launcher.py:15: DeprecationWarning: Call to deprecated `__getitem__` (Method will be removed in 4.0.0, use self.wv.__getitem__() instead).\n",
      "  from ipykernel import kernelapp as app\n",
      "/usr/local/lib/python3.6/dist-packages/ipykernel_launcher.py:18: RuntimeWarning: invalid value encountered in true_divide\n"
     ]
    }
   ],
   "source": [
    "# Apply \"getAvgFeatureVec\" function.\n",
    "trainDataAvg = getAvgFeatureVec(text, model1, 250)\n",
    "trainDataAvg = np.nan_to_num(trainDataAvg)"
   ]
  },
  {
   "cell_type": "code",
   "execution_count": 138,
   "metadata": {
    "colab": {
     "base_uri": "https://localhost:8080/"
    },
    "id": "qokBQzFUV5wI",
    "outputId": "0ee6e9da-90e6-4301-c4cb-1f722b24614c"
   },
   "outputs": [
    {
     "name": "stderr",
     "output_type": "stream",
     "text": [
      "/usr/local/lib/python3.6/dist-packages/ipykernel_launcher.py:15: DeprecationWarning: Call to deprecated `__getitem__` (Method will be removed in 4.0.0, use self.wv.__getitem__() instead).\n",
      "  from ipykernel import kernelapp as app\n",
      "/usr/local/lib/python3.6/dist-packages/ipykernel_launcher.py:18: RuntimeWarning: invalid value encountered in true_divide\n"
     ]
    }
   ],
   "source": [
    "testX = getAvgFeatureVec(test_X, model1, 250)"
   ]
  },
  {
   "cell_type": "code",
   "execution_count": 76,
   "metadata": {
    "colab": {
     "base_uri": "https://localhost:8080/"
    },
    "id": "98rofRXZGcnZ",
    "outputId": "306c04da-03b8-47dd-85cd-b1543bd90598"
   },
   "outputs": [
    {
     "data": {
      "text/plain": [
       "(17500, 250)"
      ]
     },
     "execution_count": 76,
     "metadata": {
      "tags": []
     },
     "output_type": "execute_result"
    }
   ],
   "source": [
    "trainDataAvg1 = np.nan_to_num(trainDataAvg)\n",
    "trainDataAvg1.shape"
   ]
  },
  {
   "cell_type": "code",
   "execution_count": 139,
   "metadata": {
    "colab": {
     "base_uri": "https://localhost:8080/"
    },
    "id": "QHQdIccNWScu",
    "outputId": "3201cb5c-2c60-4451-a296-e6087f0464b6"
   },
   "outputs": [
    {
     "data": {
      "text/plain": [
       "(7500, 250)"
      ]
     },
     "execution_count": 139,
     "metadata": {
      "tags": []
     },
     "output_type": "execute_result"
    }
   ],
   "source": [
    "testX = np.nan_to_num(testX)\r\n",
    "testX.shape"
   ]
  },
  {
   "cell_type": "code",
   "execution_count": 77,
   "metadata": {
    "colab": {
     "base_uri": "https://localhost:8080/"
    },
    "id": "sV5KMZMIGXQy",
    "outputId": "5e9a9b10-ddbe-4054-ce9d-b7a5a7ae8f78"
   },
   "outputs": [
    {
     "data": {
      "text/plain": [
       "(17500, 250)"
      ]
     },
     "execution_count": 77,
     "metadata": {
      "tags": []
     },
     "output_type": "execute_result"
    }
   ],
   "source": [
    "trainDataAvg1.shape"
   ]
  },
  {
   "cell_type": "code",
   "execution_count": 78,
   "metadata": {
    "colab": {
     "base_uri": "https://localhost:8080/"
    },
    "id": "Gsr_ewwOFySE",
    "outputId": "bed8d5db-bb79-4963-a6cc-2112250232cc"
   },
   "outputs": [
    {
     "data": {
      "text/plain": [
       "(17500,)"
      ]
     },
     "execution_count": 78,
     "metadata": {
      "tags": []
     },
     "output_type": "execute_result"
    }
   ],
   "source": [
    "train_y.shape"
   ]
  },
  {
   "cell_type": "markdown",
   "metadata": {
    "id": "OrCtPqrd-o_h"
   },
   "source": [
    "### Pemodelan menggunakan Support Vector Machine (SVM)"
   ]
  },
  {
   "cell_type": "code",
   "execution_count": 31,
   "metadata": {
    "id": "H9L2S5zxRfOT"
   },
   "outputs": [],
   "source": [
    "from sklearn.svm import LinearSVC\n",
    "from sklearn.naive_bayes import BernoulliNB\n",
    "from sklearn.linear_model import LogisticRegression\n",
    "from sklearn.ensemble import VotingClassifier\n",
    "from sklearn.neural_network import MLPClassifier"
   ]
  },
  {
   "cell_type": "code",
   "execution_count": 81,
   "metadata": {
    "id": "Ya29SrXI7q-k"
   },
   "outputs": [],
   "source": [
    "from sklearn.multiclass import OneVsRestClassifier\r\n",
    "sv = LinearSVC(random_state=2018)\r\n",
    "clf = OneVsRestClassifier(LinearSVC(max_iter=2000)).fit(trainDataAvg1, train_y)"
   ]
  },
  {
   "cell_type": "code",
   "execution_count": 219,
   "metadata": {
    "colab": {
     "base_uri": "https://localhost:8080/"
    },
    "id": "DSBp5btN06Vr",
    "outputId": "2a330b7e-fe23-46cc-ebbc-ba10ac47d260"
   },
   "outputs": [
    {
     "name": "stdout",
     "output_type": "stream",
     "text": [
      "[3]\n"
     ]
    },
    {
     "name": "stderr",
     "output_type": "stream",
     "text": [
      "/usr/local/lib/python3.6/dist-packages/ipykernel_launcher.py:15: DeprecationWarning: Call to deprecated `__getitem__` (Method will be removed in 4.0.0, use self.wv.__getitem__() instead).\n",
      "  from ipykernel import kernelapp as app\n"
     ]
    }
   ],
   "source": [
    "print(predict('i hate this product so much',model1,clf))"
   ]
  },
  {
   "cell_type": "markdown",
   "metadata": {
    "id": "ncZccaT1_PJq"
   },
   "source": [
    "#### Menghitung performa model dengan confusion matrix"
   ]
  },
  {
   "cell_type": "code",
   "execution_count": 82,
   "metadata": {
    "colab": {
     "base_uri": "https://localhost:8080/",
     "height": 295
    },
    "id": "RBCZVnkY1bkG",
    "outputId": "0a6293c2-10a8-4f61-bdfe-35bba748a867"
   },
   "outputs": [
    {
     "data": {
      "image/png": "[encoded data removed]",
      "text/plain": [
       "<Figure size 432x288 with 2 Axes>"
      ]
     },
     "metadata": {
      "needs_background": "light",
      "tags": []
     },
     "output_type": "display_data"
    }
   ],
   "source": [
    "predicted = clf.predict(trainDataAvg1)\n",
    "import scikitplot as skplt\n",
    "import matplotlib.pyplot as plt\n",
    "skplt.metrics.plot_confusion_matrix(train_y, predicted, normalize=True)\n",
    "plt.show()"
   ]
  },
  {
   "cell_type": "markdown",
   "metadata": {
    "id": "Djmu3rFX_gdK"
   },
   "source": [
    "#### Menghitung performa model dengan roc-auc score"
   ]
  },
  {
   "cell_type": "code",
   "execution_count": 83,
   "metadata": {
    "id": "WzJXtFTd4f6h"
   },
   "outputs": [],
   "source": [
    "from sklearn.metrics import roc_auc_score\n",
    "from sklearn.preprocessing import label_binarize\n",
    "from sklearn.metrics import roc_curve, auc"
   ]
  },
  {
   "cell_type": "code",
   "execution_count": 84,
   "metadata": {
    "id": "1eFCw7At4O5V"
   },
   "outputs": [],
   "source": [
    "y_score = label_binarize(predicted,classes=[i for i in range (1,6)])\n",
    "y_test = label_binarize(train_y,classes=[i for i in range (1,6)])\n",
    "# Compute ROC curve and ROC area for each class\n",
    "fpr = dict()\n",
    "tpr = dict()\n",
    "roc_auc = dict()\n",
    "for i in range(0,5):\n",
    "    fpr[i], tpr[i], _ = roc_curve(y_test[:,i], y_score[:,i])\n",
    "    roc_auc[i] = auc(fpr[i], tpr[i])"
   ]
  },
  {
   "cell_type": "markdown",
   "metadata": {
    "id": "sxzADSZ1_wrB"
   },
   "source": [
    "##### Grafik micro-average ROC curve"
   ]
  },
  {
   "cell_type": "code",
   "execution_count": 85,
   "metadata": {
    "colab": {
     "base_uri": "https://localhost:8080/",
     "height": 295
    },
    "id": "1CDqGd2E4P6A",
    "outputId": "f4beebc2-6859-43cb-ddbb-8ae26e38e3b4"
   },
   "outputs": [
    {
     "data": {
      "image/png": "[encoded data removed]",
      "text/plain": [
       "<Figure size 432x288 with 1 Axes>"
      ]
     },
     "metadata": {
      "needs_background": "light",
      "tags": []
     },
     "output_type": "display_data"
    }
   ],
   "source": [
    "fpr[\"micro\"], tpr[\"micro\"], _ = roc_curve(y_test.ravel(), y_score.ravel())\n",
    "roc_auc[\"micro\"] = auc(fpr[\"micro\"], tpr[\"micro\"])\n",
    "plt.figure()\n",
    "plt.plot(fpr[\"micro\"], tpr[\"micro\"],\n",
    "         label='micro-average ROC curve (area = {0:0.2f})'\n",
    "               ''.format(roc_auc[\"micro\"]),\n",
    "         color='deeppink', linestyle=':', linewidth=4)\n",
    "plt.plot([0, 1], [0, 1], 'k--', lw=2)\n",
    "plt.xlim([0.0, 1.0])\n",
    "plt.ylim([0.0, 1.05])\n",
    "plt.xlabel('False Positive Rate')\n",
    "plt.ylabel('True Positive Rate')\n",
    "plt.title('Some Extension of Receiver Operating Characteristic to Multi-class')\n",
    "plt.legend(loc=\"lower right\")\n",
    "plt.show()"
   ]
  },
  {
   "cell_type": "markdown",
   "metadata": {
    "id": "wvTmKYzkAGJT"
   },
   "source": [
    "##### Grafik ROC curve dari setiap rating"
   ]
  },
  {
   "cell_type": "code",
   "execution_count": 86,
   "metadata": {
    "colab": {
     "base_uri": "https://localhost:8080/",
     "height": 312
    },
    "id": "igmne3qm6Y2T",
    "outputId": "c8b9b3fe-9330-4b8e-9415-0202034ae7cf"
   },
   "outputs": [
    {
     "data": {
      "text/plain": [
       "<matplotlib.legend.Legend at 0x7f2a680cde10>"
      ]
     },
     "execution_count": 86,
     "metadata": {
      "tags": []
     },
     "output_type": "execute_result"
    },
    {
     "data": {
      "image/png": "[encoded data removed]",
      "text/plain": [
       "<Figure size 432x288 with 1 Axes>"
      ]
     },
     "metadata": {
      "needs_background": "light",
      "tags": []
     },
     "output_type": "display_data"
    }
   ],
   "source": [
    "for i in range(0,5):\n",
    "  plt.plot(fpr[i],tpr[i],label='ROC curve of class {0} (area = {1:0.2f})'\n",
    "             ''.format(i+1, roc_auc[i]))\n",
    "plt.xlabel('False Positive Rate')\n",
    "plt.ylabel('True Positive Rate')\n",
    "plt.title('Some Extension of Receiver Operating Characteristic to Multi-class')\n",
    "plt.legend(loc='lower right')"
   ]
  },
  {
   "cell_type": "markdown",
   "metadata": {
    "id": "u6H7Gf_pXpTu"
   },
   "source": [
    "#### Classification report dari pemodelan menggunakan SVM"
   ]
  },
  {
   "cell_type": "code",
   "execution_count": 141,
   "metadata": {
    "id": "7gmzH3HaWsgx"
   },
   "outputs": [],
   "source": [
    "from sklearn.metrics import accuracy_score, classification_report "
   ]
  },
  {
   "cell_type": "code",
   "execution_count": 143,
   "metadata": {
    "colab": {
     "base_uri": "https://localhost:8080/"
    },
    "id": "dzYFYoyEP8kg",
    "outputId": "fe775693-1a1e-4e53-c979-55afdb2d100f"
   },
   "outputs": [
    {
     "name": "stdout",
     "output_type": "stream",
     "text": [
      "Test Set Accuracy : 30.0 %\n",
      "\n",
      "\n",
      "Classification Report : \n",
      "\n",
      "              precision    recall  f1-score   support\n",
      "\n",
      "           1       0.32      0.32      0.32      1537\n",
      "           2       0.30      0.35      0.32      1509\n",
      "           3       0.31      0.37      0.34      1525\n",
      "           4       0.28      0.21      0.24      1452\n",
      "           5       0.29      0.25      0.27      1477\n",
      "\n",
      "    accuracy                           0.30      7500\n",
      "   macro avg       0.30      0.30      0.30      7500\n",
      "weighted avg       0.30      0.30      0.30      7500\n",
      "\n"
     ]
    }
   ],
   "source": [
    "# Making a prediction on the test set \r\n",
    "prediction = clf.predict(testX)\r\n",
    "   \r\n",
    "# Evaluating the model \r\n",
    "print(f\"Test Set Accuracy : {accuracy_score(test_y, prediction) * 100} %\\n\\n\") \r\n",
    "print(f\"Classification Report : \\n\\n{classification_report(test_y, prediction)}\") "
   ]
  },
  {
   "cell_type": "code",
   "execution_count": 158,
   "metadata": {
    "colab": {
     "base_uri": "https://localhost:8080/"
    },
    "id": "vhjobvoheSOc",
    "outputId": "9a9c7819-d8fa-4867-c02a-903f1bc0bf86"
   },
   "outputs": [
    {
     "name": "stderr",
     "output_type": "stream",
     "text": [
      "/usr/local/lib/python3.6/dist-packages/sklearn/model_selection/_split.py:296: FutureWarning: Setting a random_state has no effect since shuffle is False. This will raise an error in 0.24. You should leave random_state to its default (None), or set shuffle=True.\n",
      "  FutureWarning\n"
     ]
    }
   ],
   "source": [
    "from sklearn.model_selection import GridSearchCV, StratifiedKFold, learning_curve\r\n",
    "from sklearn.metrics import f1_score\r\n",
    "from sklearn import svm\r\n",
    "kfold = StratifiedKFold(n_splits=3, random_state = 33)"
   ]
  },
  {
   "cell_type": "code",
   "execution_count": 155,
   "metadata": {
    "id": "Bvh_cTLWenpH"
   },
   "outputs": [],
   "source": [
    "rbf = svm.SVC(kernel='rbf', gamma=0.5, C=0.1).fit(trainDataAvg1, train_y)\r\n",
    "poly = svm.SVC(kernel='poly', degree=3, C=1).fit(trainDataAvg1, train_y)"
   ]
  },
  {
   "cell_type": "code",
   "execution_count": 156,
   "metadata": {
    "id": "skmW278GkbKc"
   },
   "outputs": [],
   "source": [
    "poly_pred = poly.predict(testX)\r\n",
    "rbf_pred = rbf.predict(testX)"
   ]
  },
  {
   "cell_type": "code",
   "execution_count": 159,
   "metadata": {
    "colab": {
     "base_uri": "https://localhost:8080/"
    },
    "id": "F6wYef_FlBXF",
    "outputId": "8f585e82-992c-4ccf-acf8-d91b7695b626"
   },
   "outputs": [
    {
     "name": "stdout",
     "output_type": "stream",
     "text": [
      "Accuracy (Polynomial Kernel):  28.04\n",
      "F1 (Polynomial Kernel):  24.50\n"
     ]
    }
   ],
   "source": [
    "poly_accuracy = accuracy_score(test_y, poly_pred)\r\n",
    "poly_f1 = f1_score(test_y, poly_pred, average='weighted')\r\n",
    "print('Accuracy (Polynomial Kernel): ', \"%.2f\" % (poly_accuracy*100))\r\n",
    "print('F1 (Polynomial Kernel): ', \"%.2f\" % (poly_f1*100))"
   ]
  },
  {
   "cell_type": "code",
   "execution_count": 162,
   "metadata": {
    "id": "t9UYqr-ung_X"
   },
   "outputs": [],
   "source": [
    "from sklearn.metrics import make_scorer"
   ]
  },
  {
   "cell_type": "code",
   "execution_count": 163,
   "metadata": {
    "id": "TtoITAc7mHgY"
   },
   "outputs": [],
   "source": [
    "svc_clf = svm.SVC(C=0.7,tol=0.01,kernel='rbf',cache_size=500)\r\n",
    "param_grid = {'C':np.linspace(0.1,1.0,10),'tol':[1e-7,1e-6,1e-5,1e-4,1e-3,1e-2,1e-1],'kernel':['rbf','poly'],'degree':[3,4,5,6,7]}"
   ]
  },
  {
   "cell_type": "code",
   "execution_count": null,
   "metadata": {
    "id": "PbBOHCinm4ak"
   },
   "outputs": [],
   "source": [
    "gs_svc = GridSearchCV(estimator = svc_clf, param_grid = param_grid, scoring = 'roc_auc', cv = cv)\r\n",
    "gs_svc.fit(trainDataAvg1, train_y)"
   ]
  },
  {
   "cell_type": "code",
   "execution_count": 87,
   "metadata": {
    "colab": {
     "base_uri": "https://localhost:8080/"
    },
    "id": "WwmX7qkW3uyc",
    "outputId": "6d92a758-0a6f-4eeb-85e7-6d7a08434017"
   },
   "outputs": [
    {
     "name": "stdout",
     "output_type": "stream",
     "text": [
      "Requirement already satisfied: wheel in /usr/local/lib/python3.6/dist-packages (0.36.2)\n",
      "Requirement already satisfied: scikit-plot in /usr/local/lib/python3.6/dist-packages (0.3.7)\n",
      "Requirement already satisfied: scipy>=0.9 in /usr/local/lib/python3.6/dist-packages (from scikit-plot) (1.4.1)\n",
      "Requirement already satisfied: scikit-learn>=0.18 in /usr/local/lib/python3.6/dist-packages (from scikit-plot) (0.22.2.post1)\n",
      "Requirement already satisfied: matplotlib>=1.4.0 in /usr/local/lib/python3.6/dist-packages (from scikit-plot) (3.2.2)\n",
      "Requirement already satisfied: joblib>=0.10 in /usr/local/lib/python3.6/dist-packages (from scikit-plot) (1.0.0)\n",
      "Requirement already satisfied: numpy>=1.13.3 in /usr/local/lib/python3.6/dist-packages (from scipy>=0.9->scikit-plot) (1.19.4)\n",
      "Requirement already satisfied: python-dateutil>=2.1 in /usr/local/lib/python3.6/dist-packages (from matplotlib>=1.4.0->scikit-plot) (2.8.1)\n",
      "Requirement already satisfied: pyparsing!=2.0.4,!=2.1.2,!=2.1.6,>=2.0.1 in /usr/local/lib/python3.6/dist-packages (from matplotlib>=1.4.0->scikit-plot) (2.4.7)\n",
      "Requirement already satisfied: cycler>=0.10 in /usr/local/lib/python3.6/dist-packages (from matplotlib>=1.4.0->scikit-plot) (0.10.0)\n",
      "Requirement already satisfied: kiwisolver>=1.0.1 in /usr/local/lib/python3.6/dist-packages (from matplotlib>=1.4.0->scikit-plot) (1.3.1)\n",
      "Requirement already satisfied: six>=1.5 in /usr/local/lib/python3.6/dist-packages (from python-dateutil>=2.1->matplotlib>=1.4.0->scikit-plot) (1.15.0)\n"
     ]
    }
   ],
   "source": [
    "# !pip install wheel\n",
    "# !pip install scikit-plot"
   ]
  },
  {
   "cell_type": "markdown",
   "metadata": {
    "id": "Rc9z6SuAFf8j"
   },
   "source": [
    "## Pemodelan menggunakan bernoulli naive bayes"
   ]
  },
  {
   "cell_type": "markdown",
   "metadata": {
    "id": "0nBkziq6Frhw"
   },
   "source": [
    "#### Menghitung performa model menggunakan confusion matrix"
   ]
  },
  {
   "cell_type": "code",
   "execution_count": 88,
   "metadata": {
    "id": "Tc8NHWox9FwP"
   },
   "outputs": [],
   "source": [
    "bnb = BernoulliNB()\r\n",
    "clf2 = OneVsRestClassifier(bnb).fit(trainDataAvg1, train_y)"
   ]
  },
  {
   "cell_type": "code",
   "execution_count": 89,
   "metadata": {
    "colab": {
     "base_uri": "https://localhost:8080/",
     "height": 295
    },
    "id": "Dz7vdPq2DZO0",
    "outputId": "bf0fcb5c-1727-4b94-d0e3-09e644e26424"
   },
   "outputs": [
    {
     "data": {
      "image/png": "[encoded data removed]",
      "text/plain": [
       "<Figure size 432x288 with 2 Axes>"
      ]
     },
     "metadata": {
      "needs_background": "light",
      "tags": []
     },
     "output_type": "display_data"
    }
   ],
   "source": [
    "nb_predicted = clf2.predict(trainDataAvg1)\n",
    "skplt.metrics.plot_confusion_matrix(train_y, predicted, normalize=True)\n",
    "plt.show()"
   ]
  },
  {
   "cell_type": "markdown",
   "metadata": {
    "id": "SrJGNmvRF1Nv"
   },
   "source": [
    "#### Menghitung performa model dengan roc-auc score"
   ]
  },
  {
   "cell_type": "code",
   "execution_count": 90,
   "metadata": {
    "id": "w89JiHECTqq6"
   },
   "outputs": [],
   "source": [
    "y_score = label_binarize(nb_predicted,classes=[i for i in range (1,6)])\n",
    "y_test = label_binarize(train_y,classes=[i for i in range (1,6)])\n",
    "# Compute ROC curve and ROC area for each class\n",
    "fpr = dict()\n",
    "tpr = dict()\n",
    "roc_auc = dict()\n",
    "for i in range(0,5):\n",
    "    fpr[i], tpr[i], _ = roc_curve(y_test[:,i], y_score[:,i])\n",
    "    roc_auc[i] = auc(fpr[i], tpr[i])"
   ]
  },
  {
   "cell_type": "markdown",
   "metadata": {
    "id": "bA7otpaMF8KC"
   },
   "source": [
    "##### Grafik micro-average ROC curve"
   ]
  },
  {
   "cell_type": "code",
   "execution_count": 91,
   "metadata": {
    "colab": {
     "base_uri": "https://localhost:8080/",
     "height": 295
    },
    "id": "zslWoiAOE3OM",
    "outputId": "285506b2-234e-46ac-cd58-63a327d7422d"
   },
   "outputs": [
    {
     "data": {
      "image/png": "[encoded data removed]",
      "text/plain": [
       "<Figure size 432x288 with 1 Axes>"
      ]
     },
     "metadata": {
      "needs_background": "light",
      "tags": []
     },
     "output_type": "display_data"
    }
   ],
   "source": [
    "fpr[\"micro\"], tpr[\"micro\"], _ = roc_curve(y_test.ravel(), y_score.ravel())\n",
    "roc_auc[\"micro\"] = auc(fpr[\"micro\"], tpr[\"micro\"])\n",
    "plt.figure()\n",
    "plt.plot(fpr[\"micro\"], tpr[\"micro\"],\n",
    "         label='micro-average ROC curve (area = {0:0.2f})'\n",
    "               ''.format(roc_auc[\"micro\"]),\n",
    "         color='deeppink', linestyle=':', linewidth=4)\n",
    "plt.plot([0, 1], [0, 1], 'k--', lw=2)\n",
    "plt.xlim([0.0, 1.0])\n",
    "plt.ylim([0.0, 1.05])\n",
    "plt.xlabel('False Positive Rate')\n",
    "plt.ylabel('True Positive Rate')\n",
    "plt.title('Receiver Operating Characteristic of Naive Bayes')\n",
    "plt.legend(loc=\"lower right\")\n",
    "plt.show()"
   ]
  },
  {
   "cell_type": "markdown",
   "metadata": {
    "id": "C_z_JD0hGZma"
   },
   "source": [
    "##### Grafik ROC curve dari setiap rating"
   ]
  },
  {
   "cell_type": "code",
   "execution_count": 92,
   "metadata": {
    "colab": {
     "base_uri": "https://localhost:8080/",
     "height": 312
    },
    "id": "43RSbqZMGL9R",
    "outputId": "915e0433-55ec-45e2-a44b-e1fae3091ecc"
   },
   "outputs": [
    {
     "data": {
      "text/plain": [
       "<matplotlib.legend.Legend at 0x7f2a67f5ca90>"
      ]
     },
     "execution_count": 92,
     "metadata": {
      "tags": []
     },
     "output_type": "execute_result"
    },
    {
     "data": {
      "image/png": "[encoded data removed]",
      "text/plain": [
       "<Figure size 432x288 with 1 Axes>"
      ]
     },
     "metadata": {
      "needs_background": "light",
      "tags": []
     },
     "output_type": "display_data"
    }
   ],
   "source": [
    "for i in range(5):\n",
    "  plt.plot(fpr[i],tpr[i],label='ROC curve of class {0} (area = {1:0.2f})'\n",
    "             ''.format(i+1, roc_auc[i]))\n",
    "plt.xlabel('False Positive Rate')\n",
    "plt.ylabel('True Positive Rate')\n",
    "plt.title('Receiver Operating Characteristic to Multi-class of Naive Bayes')\n",
    "plt.legend(loc='lower right')"
   ]
  },
  {
   "cell_type": "markdown",
   "metadata": {
    "id": "Oj1_XXICXQk5"
   },
   "source": [
    "#### Classification report dari pemodelan menggunakan Bernoulli NB"
   ]
  },
  {
   "cell_type": "code",
   "execution_count": 144,
   "metadata": {
    "colab": {
     "base_uri": "https://localhost:8080/"
    },
    "id": "K5qq9QUSSQWp",
    "outputId": "edfed199-d581-4301-d92f-560a8e196778"
   },
   "outputs": [
    {
     "name": "stdout",
     "output_type": "stream",
     "text": [
      "Test Set Accuracy : 24.64 %\n",
      "\n",
      "\n",
      "Classification Report : \n",
      "\n",
      "              precision    recall  f1-score   support\n",
      "\n",
      "           1       0.21      0.13      0.17      1537\n",
      "           2       0.32      0.09      0.15      1509\n",
      "           3       0.26      0.48      0.33      1525\n",
      "           4       0.22      0.02      0.04      1452\n",
      "           5       0.24      0.49      0.32      1477\n",
      "\n",
      "    accuracy                           0.25      7500\n",
      "   macro avg       0.25      0.25      0.20      7500\n",
      "weighted avg       0.25      0.25      0.20      7500\n",
      "\n"
     ]
    }
   ],
   "source": [
    "# Making a prediction on the test set \r\n",
    "prediction = clf2.predict(testX)\r\n",
    "   \r\n",
    "# Evaluating the model \r\n",
    "print(f\"Test Set Accuracy : {accuracy_score(test_y, prediction) * 100} %\\n\\n\") \r\n",
    "print(f\"Classification Report : \\n\\n{classification_report(test_y, prediction)}\") "
   ]
  },
  {
   "cell_type": "markdown",
   "metadata": {
    "id": "XY9OfmE2YMGh"
   },
   "source": [
    "## Deep Learning"
   ]
  },
  {
   "cell_type": "code",
   "execution_count": null,
   "metadata": {
    "id": "N81kYJLMPJSL"
   },
   "outputs": [],
   "source": [
    "import json\n",
    "import tensorflow as tf\n",
    "\n",
    "from tensorflow.keras.preprocessing.text import Tokenizer\n",
    "from tensorflow.keras.preprocessing.sequence import pad_sequences"
   ]
  },
  {
   "cell_type": "code",
   "execution_count": null,
   "metadata": {
    "id": "DPST07rFPLTk"
   },
   "outputs": [],
   "source": [
    "vocab_size = 10000\n",
    "embedding_dim = 16\n",
    "max_length = 100\n",
    "trunc_type='post'\n",
    "padding_type='post'\n",
    "oov_tok = \"<OOV>\"\n",
    "training_size = 20000"
   ]
  },
  {
   "cell_type": "code",
   "execution_count": null,
   "metadata": {
    "colab": {
     "base_uri": "https://localhost:8080/"
    },
    "id": "1ffcy9pxPa5N",
    "outputId": "39397dc9-aa58-4ee8-f90b-05abf530fba1"
   },
   "outputs": [
    {
     "data": {
      "text/plain": [
       "146811"
      ]
     },
     "execution_count": 103,
     "metadata": {
      "tags": []
     },
     "output_type": "execute_result"
    }
   ],
   "source": [
    "len(text)"
   ]
  },
  {
   "cell_type": "code",
   "execution_count": null,
   "metadata": {
    "id": "k7IEY3oIPLo6"
   },
   "outputs": [],
   "source": [
    "tokenizer = Tokenizer(num_words=vocab_size, oov_token=oov_tok)\n",
    "tokenizer.fit_on_texts(text)\n",
    "\n",
    "word_index = tokenizer.word_index\n",
    "\n",
    "training_sequences = tokenizer.texts_to_sequences(text)\n",
    "training_padded = pad_sequences(training_sequences, maxlen=max_length, padding=padding_type, truncating=trunc_type)\n"
   ]
  },
  {
   "cell_type": "code",
   "execution_count": null,
   "metadata": {
    "id": "Ws2eqHCWS6d4"
   },
   "outputs": [],
   "source": [
    "word_index"
   ]
  },
  {
   "cell_type": "code",
   "execution_count": null,
   "metadata": {
    "id": "fiSpwmj5PLIF"
   },
   "outputs": [],
   "source": [
    "# Need this block to get it to work with TensorFlow 2.x\n",
    "import numpy as np\n",
    "training_padded = np.array(training_padded)\n",
    "training_labels = np.array(train['rating'])"
   ]
  },
  {
   "cell_type": "code",
   "execution_count": null,
   "metadata": {
    "colab": {
     "base_uri": "https://localhost:8080/"
    },
    "id": "ovTl5g9IQD0v",
    "outputId": "f3f59bd7-b1f0-4fb9-9609-e28af0bcc0c4"
   },
   "outputs": [
    {
     "name": "stdout",
     "output_type": "stream",
     "text": [
      "Model: \"sequential_10\"\n",
      "_________________________________________________________________\n",
      "Layer (type)                 Output Shape              Param #   \n",
      "=================================================================\n",
      "embedding_3 (Embedding)      (None, None, 16)          160000    \n",
      "_________________________________________________________________\n",
      "bidirectional (Bidirectional (None, 32)                4224      \n",
      "_________________________________________________________________\n",
      "dense_18 (Dense)             (None, 16)                528       \n",
      "_________________________________________________________________\n",
      "dense_19 (Dense)             (None, 5)                 85        \n",
      "=================================================================\n",
      "Total params: 164,837\n",
      "Trainable params: 164,837\n",
      "Non-trainable params: 0\n",
      "_________________________________________________________________\n"
     ]
    }
   ],
   "source": [
    "model = tf.keras.Sequential([\n",
    "    # Add an Embedding layer expecting input vocab of size 5000, and output embedding dimension of size 64 we set at the top\n",
    "    tf.keras.layers.Embedding(vocab_size, embedding_dim),\n",
    "    tf.keras.layers.Bidirectional(tf.keras.layers.LSTM(embedding_dim)),\n",
    "#    tf.keras.layers.Bidirectional(tf.keras.layers.LSTM(32)),\n",
    "    # use ReLU in place of tanh function since they are very good alternatives of each other.\n",
    "    tf.keras.layers.Dense(embedding_dim, activation='relu'),\n",
    "    # Add a Dense layer with 6 units and softmax activation.\n",
    "    # When we have multiple outputs, softmax convert outputs layers into a probability distribution.\n",
    "    tf.keras.layers.Dense(5, activation='softmax')\n",
    "])\n",
    "model.compile(loss='binary_crossentropy',optimizer='adam',metrics=['accuracy'])\n",
    "model.summary()"
   ]
  },
  {
   "cell_type": "code",
   "execution_count": null,
   "metadata": {
    "colab": {
     "base_uri": "https://localhost:8080/"
    },
    "id": "llrgtEkFQJk-",
    "outputId": "f8979d49-57a3-4a9a-d20d-d8c134e560f6"
   },
   "outputs": [
    {
     "name": "stdout",
     "output_type": "stream",
     "text": [
      "Epoch 1/10\n",
      "4588/4588 - 50s - loss: 5.1622 - accuracy: 0.1316\n",
      "Epoch 2/10\n",
      "4588/4588 - 50s - loss: 5.1622 - accuracy: 0.1452\n",
      "Epoch 3/10\n",
      "4588/4588 - 50s - loss: 5.1622 - accuracy: 0.1360\n",
      "Epoch 4/10\n",
      "4588/4588 - 50s - loss: 5.1622 - accuracy: 0.1330\n",
      "Epoch 5/10\n",
      "4588/4588 - 50s - loss: 5.1622 - accuracy: 0.1419\n",
      "Epoch 6/10\n",
      "4588/4588 - 49s - loss: 5.1622 - accuracy: 0.1286\n",
      "Epoch 7/10\n",
      "4588/4588 - 49s - loss: 5.1622 - accuracy: 0.1497\n",
      "Epoch 8/10\n",
      "4588/4588 - 50s - loss: 5.1622 - accuracy: 0.1491\n",
      "Epoch 9/10\n",
      "4588/4588 - 49s - loss: 5.1622 - accuracy: 0.1390\n",
      "Epoch 10/10\n",
      "4588/4588 - 50s - loss: 5.1622 - accuracy: 0.1449\n"
     ]
    }
   ],
   "source": [
    "num_epochs = 10\n",
    "history = model.fit(training_padded, training_labels, epochs=num_epochs, verbose=2)"
   ]
  },
  {
   "cell_type": "code",
   "execution_count": null,
   "metadata": {
    "id": "Sz4c2SALu6DD"
   },
   "outputs": [],
   "source": [
    "def model(train,w2vec)"
   ]
  },
  {
   "cell_type": "markdown",
   "metadata": {
    "id": "ibznqUnptOL4"
   },
   "source": [
    "# Bagian 5: Dump model"
   ]
  },
  {
   "cell_type": "code",
   "execution_count": 222,
   "metadata": {
    "id": "T9FCVXRU3Dig"
   },
   "outputs": [],
   "source": [
    "pickle.dump(clf, open('/content/drive/MyDrive/Colab Notebooks/SVM.sav','wb'))\r\n",
    "pickle.dump(model1, open('/content/drive/MyDrive/Colab Notebooks/w2vec_model.sav', 'wb'))"
   ]
  },
  {
   "cell_type": "code",
   "execution_count": 218,
   "metadata": {
    "id": "aEHU3yM0ykGh"
   },
   "outputs": [],
   "source": [
    "def predict(review,w2vec_model,model):\r\n",
    "\tparagraf = [review] \r\n",
    "\tword_avg = getAvgFeatureVec(paragraf,w2vec_model,250)\r\n",
    "\tword_avg = np.nan_to_num(word_avg)\r\n",
    "\tpredicted = model.predict(word_avg)\r\n",
    "\treturn predicted"
   ]
  },
  {
   "cell_type": "code",
   "execution_count": 227,
   "metadata": {
    "colab": {
     "base_uri": "https://localhost:8080/"
    },
    "id": "u_BjS2DiDDv-",
    "outputId": "85c0755f-3b56-4c8d-814b-8c007c66a5b1"
   },
   "outputs": [
    {
     "data": {
      "text/plain": [
       "1    1537\n",
       "3    1525\n",
       "2    1509\n",
       "5    1477\n",
       "4    1452\n",
       "Name: rating, dtype: int64"
      ]
     },
     "execution_count": 227,
     "metadata": {
      "tags": []
     },
     "output_type": "execute_result"
    }
   ],
   "source": [
    "test_y.value_counts()"
   ]
  },
  {
   "cell_type": "code",
   "execution_count": null,
   "metadata": {
    "id": "Bzfj6AZyEX9d"
   },
   "outputs": [],
   "source": [
    ""
   ]
  }
 ],
 "metadata": {
  "accelerator": "GPU",
  "colab": {
   "collapsed_sections": [],
   "name": "[II4042]Data Science #5 18218011 18218018 18218043.ipynb",
   "provenance": [],
   "toc_visible": true
  },
  "kernelspec": {
   "display_name": "Python 3",
   "language": "python",
   "name": "python3"
  },
  "language_info": {
   "codemirror_mode": {
    "name": "ipython",
    "version": 3
   },
   "file_extension": ".py",
   "mimetype": "text/x-python",
   "name": "python",
   "nbconvert_exporter": "python",
   "pygments_lexer": "ipython3",
   "version": "3.7.3"
  }
 },
 "nbformat": 4,
 "nbformat_minor": 0
}
